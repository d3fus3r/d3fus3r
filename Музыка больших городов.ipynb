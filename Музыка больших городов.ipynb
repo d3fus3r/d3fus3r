{
 "cells": [
  {
   "cell_type": "markdown",
   "metadata": {
    "deletable": false,
    "editable": false,
    "id": "E0vqbgi9ay0H"
   },
   "source": [
    "# Яндекс Музыка"
   ]
  },
  {
   "cell_type": "markdown",
   "metadata": {
    "deletable": false,
    "editable": false,
    "id": "VUC88oWjTJw2"
   },
   "source": [
    "Сравнение Москвы и Петербурга окружено мифами. Например:\n",
    " * Москва — мегаполис, подчинённый жёсткому ритму рабочей недели;\n",
    " * Петербург — культурная столица, со своими вкусами.\n",
    "\n",
    "На данных Яндекс Музыки вы сравните поведение пользователей двух столиц.\n",
    "\n",
    "**Цель исследования** — проверьте три гипотезы:\n",
    "1. Активность пользователей зависит от дня недели. Причём в Москве и Петербурге это проявляется по-разному.\n",
    "2. В понедельник утром в Москве преобладают одни жанры, а в Петербурге — другие. Так же и вечером пятницы преобладают разные жанры — в зависимости от города. \n",
    "3. Москва и Петербург предпочитают разные жанры музыки. В Москве чаще слушают поп-музыку, в Петербурге — русский рэп.\n",
    "\n",
    "**Ход исследования**\n",
    "\n",
    "Данные о поведении пользователей вы получите из файла `yandex_music_project.csv`. О качестве данных ничего не известно. Поэтому перед проверкой гипотез понадобится обзор данных. \n",
    "\n",
    "Вы проверите данные на ошибки и оцените их влияние на исследование. Затем, на этапе предобработки вы поищете возможность исправить самые критичные ошибки данных.\n",
    " \n",
    "Таким образом, исследование пройдёт в три этапа:\n",
    " 1. Обзор данных.\n",
    " 2. Предобработка данных.\n",
    " 3. Проверка гипотез.\n",
    "\n"
   ]
  },
  {
   "cell_type": "markdown",
   "metadata": {
    "deletable": false,
    "editable": false,
    "id": "Ml1hmfXC_Zcs"
   },
   "source": [
    "## Обзор данных\n",
    "\n",
    "Составьте первое представление о данных Яндекс Музыки.\n",
    "\n",
    "\n"
   ]
  },
  {
   "cell_type": "markdown",
   "metadata": {
    "deletable": false,
    "editable": false,
    "id": "57eAOGIz_Zcs",
    "tags": [
     "start_task"
    ]
   },
   "source": [
    "**Задание 1**\n",
    "\n",
    "Основной инструмент аналитика — `pandas`. Импортируйте эту библиотеку."
   ]
  },
  {
   "cell_type": "code",
   "execution_count": 423,
   "metadata": {
    "deletable": false,
    "id": "AXN7PHPN_Zcs"
   },
   "outputs": [],
   "source": [
    "import pandas as pd # импорт библиотеки pandas"
   ]
  },
  {
   "cell_type": "markdown",
   "metadata": {
    "deletable": false,
    "editable": false,
    "id": "SG23P8tt_Zcs",
    "tags": [
     "start_task"
    ]
   },
   "source": [
    "**Задание 2**\n",
    "\n",
    "Прочитайте файл `yandex_music_project.csv` из папки `/datasets` и сохраните его в переменной `df`:"
   ]
  },
  {
   "cell_type": "code",
   "execution_count": 424,
   "metadata": {
    "deletable": false,
    "id": "fFVu7vqh_Zct"
   },
   "outputs": [],
   "source": [
    "df = pd.read_csv('/datasets/yandex_music_project.csv') # чтение файла с данными и сохранение в df"
   ]
  },
  {
   "cell_type": "markdown",
   "metadata": {
    "deletable": false,
    "editable": false,
    "id": "rDoOMd3uTqnZ",
    "tags": [
     "start_task"
    ]
   },
   "source": [
    "**Задание 3**\n",
    "\n",
    "\n",
    "Выведите на экран первые десять строк таблицы:"
   ]
  },
  {
   "cell_type": "code",
   "execution_count": 425,
   "metadata": {
    "deletable": false,
    "id": "oWTVX3gW_Zct",
    "scrolled": true
   },
   "outputs": [
    {
     "name": "stdout",
     "output_type": "stream",
     "text": [
      "     userID                        Track            artist   genre  \\\n",
      "0  FFB692EC            Kamigata To Boots  The Mass Missile    rock   \n",
      "1  55204538  Delayed Because of Accident  Andreas Rönnberg    rock   \n",
      "2    20EC38            Funiculì funiculà       Mario Lanza     pop   \n",
      "3  A3DD03C9        Dragons in the Sunset        Fire + Ice    folk   \n",
      "4  E2DC1FAE                  Soul People        Space Echo   dance   \n",
      "5  842029A1                    Преданная         IMPERVTOR  rusrap   \n",
      "6  4CB90AA5                         True      Roman Messer   dance   \n",
      "7  F03E1C1F             Feeling This Way   Polina Griffith   dance   \n",
      "8  8FA1D3BE     И вновь продолжается бой               NaN  ruspop   \n",
      "9  E772D5C0                    Pessimist               NaN   dance   \n",
      "\n",
      "             City        time        Day  \n",
      "0  Saint-Petersburg  20:28:33  Wednesday  \n",
      "1            Moscow  14:07:09     Friday  \n",
      "2  Saint-Petersburg  20:58:07  Wednesday  \n",
      "3  Saint-Petersburg  08:37:09     Monday  \n",
      "4            Moscow  08:34:34     Monday  \n",
      "5  Saint-Petersburg  13:09:41     Friday  \n",
      "6            Moscow  13:00:07  Wednesday  \n",
      "7            Moscow  20:47:49  Wednesday  \n",
      "8            Moscow  09:17:40     Friday  \n",
      "9  Saint-Petersburg  21:20:49  Wednesday  \n"
     ]
    }
   ],
   "source": [
    "print(df.head(10))# получение первых 10 строк таблицы df"
   ]
  },
  {
   "cell_type": "markdown",
   "metadata": {
    "deletable": false,
    "editable": false,
    "id": "EO73Kwic_Zct",
    "tags": [
     "start_task"
    ]
   },
   "source": [
    "**Задание 4**\n",
    "\n",
    "\n",
    "Одной командой получить общую информацию о таблице c помощью метода `info()`:"
   ]
  },
  {
   "cell_type": "code",
   "execution_count": 426,
   "metadata": {
    "deletable": false,
    "id": "DSf2kIb-_Zct"
   },
   "outputs": [
    {
     "name": "stdout",
     "output_type": "stream",
     "text": [
      "<class 'pandas.core.frame.DataFrame'>\n",
      "RangeIndex: 65079 entries, 0 to 65078\n",
      "Data columns (total 7 columns):\n",
      " #   Column    Non-Null Count  Dtype \n",
      "---  ------    --------------  ----- \n",
      " 0     userID  65079 non-null  object\n",
      " 1   Track     63848 non-null  object\n",
      " 2   artist    57876 non-null  object\n",
      " 3   genre     63881 non-null  object\n",
      " 4     City    65079 non-null  object\n",
      " 5   time      65079 non-null  object\n",
      " 6   Day       65079 non-null  object\n",
      "dtypes: object(7)\n",
      "memory usage: 3.5+ MB\n"
     ]
    }
   ],
   "source": [
    "df.info() # получение общей информации о данных в таблице df"
   ]
  },
  {
   "cell_type": "markdown",
   "metadata": {
    "deletable": false,
    "editable": false,
    "id": "TaQ2Iwbr_Zct"
   },
   "source": [
    "Итак, в таблице семь столбцов. Тип данных во всех столбцах — `object`.\n",
    "\n",
    "Согласно документации к данным:\n",
    "* `userID` — идентификатор пользователя;\n",
    "* `Track` — название трека;  \n",
    "* `artist` — имя исполнителя;\n",
    "* `genre` — название жанра;\n",
    "* `City` — город пользователя;\n",
    "* `time` — время начала прослушивания;\n",
    "* `Day` — день недели.\n",
    "\n",
    "Количество значений в столбцах различается. Значит, в данных есть пропущенные значения."
   ]
  },
  {
   "cell_type": "markdown",
   "metadata": {
    "deletable": false,
    "editable": false,
    "id": "rAfziTBDmf2h",
    "tags": [
     "start_task"
    ]
   },
   "source": [
    "**Задание 5**\n",
    "\n",
    "**Вопрос со свободной формой ответа**\n",
    "\n",
    "В названиях колонок видны нарушения стиля:\n",
    "* Строчные буквы сочетаются с прописными.\n",
    "* Встречаются пробелы.\n",
    "\n",
    "Какое третье нарушение?"
   ]
  },
  {
   "cell_type": "code",
   "execution_count": 427,
   "metadata": {
    "id": "jD8EXEIvmf2h"
   },
   "outputs": [],
   "source": [
    "# Нет соответствия змеиному_регистру"
   ]
  },
  {
   "cell_type": "markdown",
   "metadata": {
    "deletable": false,
    "editable": false,
    "id": "MCB6-dXG_Zct"
   },
   "source": [
    "**Выводы**\n",
    "\n",
    "В каждой строке таблицы — данные о прослушанном треке. Часть колонок описывает саму композицию: название, исполнителя и жанр. Остальные данные рассказывают о пользователе: из какого он города, когда он слушал музыку. \n",
    "\n",
    "Предварительно можно утверждать, что данных достаточно для проверки гипотез. Но встречаются пропуски в данных, а в названиях колонок — расхождения с хорошим стилем.\n",
    "\n",
    "Чтобы двигаться дальше, нужно устранить проблемы в данных."
   ]
  },
  {
   "cell_type": "markdown",
   "metadata": {
    "deletable": false,
    "editable": false,
    "id": "SjYF6Ub9_Zct"
   },
   "source": [
    "## Предобработка данных\n",
    "Исправьте стиль в заголовках столбцов, исключите пропуски. Затем проверьте данные на дубликаты."
   ]
  },
  {
   "cell_type": "markdown",
   "metadata": {
    "deletable": false,
    "editable": false,
    "id": "dIaKXr29_Zct",
    "tags": [
     "start_task"
    ]
   },
   "source": [
    "### Стиль заголовков\n",
    "\n",
    "**Задание 6**\n",
    "\n",
    "Выведите на экран названия столбцов:"
   ]
  },
  {
   "cell_type": "code",
   "execution_count": 428,
   "metadata": {
    "deletable": false,
    "id": "oKOTdF_Q_Zct"
   },
   "outputs": [
    {
     "name": "stdout",
     "output_type": "stream",
     "text": [
      "Index(['  userID', 'Track', 'artist', 'genre', '  City  ', 'time', 'Day'], dtype='object')\n"
     ]
    }
   ],
   "source": [
    "print(df.columns) # перечень названий столбцов таблицы df"
   ]
  },
  {
   "cell_type": "markdown",
   "metadata": {
    "deletable": false,
    "editable": false,
    "id": "zj5534cv_Zct",
    "tags": [
     "start_task"
    ]
   },
   "source": [
    "**Задание 7**\n",
    "\n",
    "\n",
    "Приведите названия в соответствие с хорошим стилем:\n",
    "* несколько слов в названии запишите в «змеином_регистре»,\n",
    "* все символы сделайте строчными,\n",
    "* устраните пробелы.\n",
    "\n",
    "Для этого переименуйте колонки так:\n",
    "* `'  userID'` → `'user_id'`;\n",
    "* `'Track'` → `'track'`;\n",
    "* `'  City  '` → `'city'`;\n",
    "* `'Day'` → `'day'`."
   ]
  },
  {
   "cell_type": "code",
   "execution_count": 429,
   "metadata": {
    "deletable": false,
    "id": "ISlFqs5y_Zct"
   },
   "outputs": [],
   "source": [
    "df = df.rename(columns={'  userID':'user_id','Track':'track','  City  ':'city','Day':'day'}) # переименование столбцов"
   ]
  },
  {
   "cell_type": "markdown",
   "metadata": {
    "deletable": false,
    "editable": false,
    "id": "1dqbh00J_Zct",
    "tags": [
     "start_task"
    ]
   },
   "source": [
    "**Задание 8**\n",
    "\n",
    "\n",
    "Проверьте результат. Для этого ещё раз выведите на экран названия столбцов:"
   ]
  },
  {
   "cell_type": "code",
   "execution_count": 430,
   "metadata": {
    "deletable": false,
    "id": "d4NOAmTW_Zct"
   },
   "outputs": [
    {
     "name": "stdout",
     "output_type": "stream",
     "text": [
      "Index(['user_id', 'track', 'artist', 'genre', 'city', 'time', 'day'], dtype='object')\n"
     ]
    }
   ],
   "source": [
    "print(df.columns) # проверка результатов - перечень названий столбцов"
   ]
  },
  {
   "cell_type": "markdown",
   "metadata": {
    "deletable": false,
    "editable": false,
    "id": "5ISfbcfY_Zct",
    "tags": [
     "start_task"
    ]
   },
   "source": [
    "### Пропуски значений\n",
    "\n",
    "**Задание 9**\n",
    "\n",
    "Сначала посчитайте, сколько в таблице пропущенных значений. Для этого достаточно двух методов `pandas`:"
   ]
  },
  {
   "cell_type": "code",
   "execution_count": 431,
   "metadata": {
    "deletable": false,
    "id": "RskX29qr_Zct"
   },
   "outputs": [
    {
     "name": "stdout",
     "output_type": "stream",
     "text": [
      "user_id       0\n",
      "track      1231\n",
      "artist     7203\n",
      "genre      1198\n",
      "city          0\n",
      "time          0\n",
      "day           0\n",
      "dtype: int64\n"
     ]
    }
   ],
   "source": [
    "print(df.isna().sum()) # подсчёт пропусков"
   ]
  },
  {
   "cell_type": "markdown",
   "metadata": {
    "deletable": false,
    "editable": false,
    "id": "qubhgnlO_Zct"
   },
   "source": [
    "Не все пропущенные значения влияют на исследование. Так в `track` и `artist` пропуски не важны для вашей работы. Достаточно заменить их явными обозначениями.\n",
    "\n",
    "Но пропуски в `genre` могут помешать сравнению музыкальных вкусов в Москве и Санкт-Петербурге. На практике было бы правильно установить причину пропусков и восстановить данные. Такой возможности нет в учебном проекте. Придётся:\n",
    "* заполнить и эти пропуски явными обозначениями;\n",
    "* оценить, насколько они повредят расчётам. "
   ]
  },
  {
   "cell_type": "markdown",
   "metadata": {
    "deletable": false,
    "editable": false,
    "id": "fSv2laPA_Zct",
    "tags": [
     "start_task"
    ]
   },
   "source": [
    "**Задание 10**\n",
    "\n",
    "Замените пропущенные значения в столбцах `track`, `artist` и `genre` на строку `'unknown'`. Для этого создайте список `columns_to_replace`, переберите его элементы циклом `for` и для каждого столбца выполните замену пропущенных значений:"
   ]
  },
  {
   "cell_type": "code",
   "execution_count": 432,
   "metadata": {
    "deletable": false,
    "id": "KplB5qWs_Zct"
   },
   "outputs": [],
   "source": [
    "columns_to_replace = ['track','artist','genre']\n",
    "for column in columns_to_replace:\n",
    "    df[column] = df[column].fillna('unknown') # перебор названий столбцов в цикле и замена пропущенных значений на 'unknown'"
   ]
  },
  {
   "cell_type": "markdown",
   "metadata": {
    "deletable": false,
    "editable": false,
    "id": "Ilsm-MZo_Zct",
    "tags": [
     "start_task"
    ]
   },
   "source": [
    "**Задание 11**\n",
    "\n",
    "Убедитесь, что в таблице не осталось пропусков. Для этого ещё раз посчитайте пропущенные значения."
   ]
  },
  {
   "cell_type": "code",
   "execution_count": 433,
   "metadata": {
    "deletable": false,
    "id": "Tq4nYRX4_Zct"
   },
   "outputs": [
    {
     "data": {
      "text/plain": [
       "user_id    0\n",
       "track      0\n",
       "artist     0\n",
       "genre      0\n",
       "city       0\n",
       "time       0\n",
       "day        0\n",
       "dtype: int64"
      ]
     },
     "execution_count": 433,
     "metadata": {},
     "output_type": "execute_result"
    }
   ],
   "source": [
    "df.isna().sum() # подсчёт пропусков"
   ]
  },
  {
   "cell_type": "markdown",
   "metadata": {
    "deletable": false,
    "editable": false,
    "id": "BWKRtBJ3_Zct",
    "tags": [
     "start_task"
    ]
   },
   "source": [
    "### Дубликаты\n",
    "\n",
    "**Задание 12**\n",
    "\n",
    "Посчитайте явные дубликаты в таблице одной командой:"
   ]
  },
  {
   "cell_type": "code",
   "execution_count": 434,
   "metadata": {
    "deletable": false,
    "id": "36eES_S0_Zct",
    "scrolled": false
   },
   "outputs": [
    {
     "data": {
      "text/plain": [
       "3826"
      ]
     },
     "execution_count": 434,
     "metadata": {},
     "output_type": "execute_result"
    }
   ],
   "source": [
    "df.duplicated().sum() # подсчёт явных дубликатов"
   ]
  },
  {
   "cell_type": "markdown",
   "metadata": {
    "deletable": false,
    "editable": false,
    "id": "Ot25h6XR_Zct",
    "tags": [
     "start_task"
    ]
   },
   "source": [
    "**Задание 13**\n",
    "\n",
    "Вызовите специальный метод `pandas`, чтобы удалить явные дубликаты:"
   ]
  },
  {
   "cell_type": "code",
   "execution_count": 435,
   "metadata": {
    "deletable": false,
    "id": "exFHq6tt_Zct",
    "scrolled": true
   },
   "outputs": [],
   "source": [
    "df = df.drop_duplicates().reset_index(drop=True) # удаление явных дубликатов"
   ]
  },
  {
   "cell_type": "markdown",
   "metadata": {
    "deletable": false,
    "editable": false,
    "id": "Im2YwBEG_Zct",
    "tags": [
     "start_task"
    ]
   },
   "source": [
    "**Задание 14**\n",
    "\n",
    "Ещё раз посчитайте явные дубликаты в таблице — убедитесь, что полностью от них избавились:"
   ]
  },
  {
   "cell_type": "code",
   "execution_count": 436,
   "metadata": {
    "deletable": false,
    "id": "-8PuNWQ0_Zct"
   },
   "outputs": [
    {
     "data": {
      "text/plain": [
       "0"
      ]
     },
     "execution_count": 436,
     "metadata": {},
     "output_type": "execute_result"
    }
   ],
   "source": [
    "df.duplicated().sum() # проверка на отсутствие дубликатов"
   ]
  },
  {
   "cell_type": "markdown",
   "metadata": {
    "deletable": false,
    "editable": false,
    "id": "QlFBsxAr_Zct"
   },
   "source": [
    "Теперь избавьтесь от неявных дубликатов в колонке `genre`. Например, название одного и того же жанра может быть записано немного по-разному. Такие ошибки тоже повлияют на результат исследования."
   ]
  },
  {
   "cell_type": "markdown",
   "metadata": {
    "deletable": false,
    "editable": false,
    "id": "eSjWwsOh_Zct",
    "tags": [
     "start_task"
    ]
   },
   "source": [
    "**Задание 15**\n",
    "\n",
    "Выведите на экран список уникальных названий жанров, отсортированный в алфавитном порядке. Для этого:\n",
    "1. извлеките нужный столбец датафрейма; \n",
    "2. примените к нему метод сортировки;\n",
    "3. для отсортированного столбца вызовите метод, который вернёт уникальные значения из столбца."
   ]
  },
  {
   "cell_type": "code",
   "execution_count": 437,
   "metadata": {
    "deletable": false,
    "id": "JIUcqzZN_Zct"
   },
   "outputs": [
    {
     "data": {
      "text/plain": [
       "array(['acid', 'acoustic', 'action', 'adult', 'africa', 'afrikaans',\n",
       "       'alternative', 'alternativepunk', 'ambient', 'americana',\n",
       "       'animated', 'anime', 'arabesk', 'arabic', 'arena',\n",
       "       'argentinetango', 'art', 'audiobook', 'author', 'avantgarde',\n",
       "       'axé', 'baile', 'balkan', 'beats', 'bigroom', 'black', 'bluegrass',\n",
       "       'blues', 'bollywood', 'bossa', 'brazilian', 'breakbeat', 'breaks',\n",
       "       'broadway', 'cantautori', 'cantopop', 'canzone', 'caribbean',\n",
       "       'caucasian', 'celtic', 'chamber', 'chanson', 'children', 'chill',\n",
       "       'chinese', 'choral', 'christian', 'christmas', 'classical',\n",
       "       'classicmetal', 'club', 'colombian', 'comedy', 'conjazz',\n",
       "       'contemporary', 'country', 'cuban', 'dance', 'dancehall',\n",
       "       'dancepop', 'dark', 'death', 'deep', 'deutschrock', 'deutschspr',\n",
       "       'dirty', 'disco', 'dnb', 'documentary', 'downbeat', 'downtempo',\n",
       "       'drum', 'dub', 'dubstep', 'eastern', 'easy', 'electronic',\n",
       "       'electropop', 'emo', 'entehno', 'epicmetal', 'estrada', 'ethnic',\n",
       "       'eurofolk', 'european', 'experimental', 'extrememetal', 'fado',\n",
       "       'fairytail', 'film', 'fitness', 'flamenco', 'folk', 'folklore',\n",
       "       'folkmetal', 'folkrock', 'folktronica', 'forró', 'frankreich',\n",
       "       'französisch', 'french', 'funk', 'future', 'gangsta', 'garage',\n",
       "       'german', 'ghazal', 'gitarre', 'glitch', 'gospel', 'gothic',\n",
       "       'grime', 'grunge', 'gypsy', 'handsup', \"hard'n'heavy\", 'hardcore',\n",
       "       'hardstyle', 'hardtechno', 'hip', 'hip-hop', 'hiphop',\n",
       "       'historisch', 'holiday', 'hop', 'horror', 'house', 'hymn', 'idm',\n",
       "       'independent', 'indian', 'indie', 'indipop', 'industrial',\n",
       "       'inspirational', 'instrumental', 'international', 'irish', 'jam',\n",
       "       'japanese', 'jazz', 'jewish', 'jpop', 'jungle', 'k-pop',\n",
       "       'karadeniz', 'karaoke', 'kayokyoku', 'korean', 'laiko', 'latin',\n",
       "       'latino', 'leftfield', 'local', 'lounge', 'loungeelectronic',\n",
       "       'lovers', 'malaysian', 'mandopop', 'marschmusik', 'meditative',\n",
       "       'mediterranean', 'melodic', 'metal', 'metalcore', 'mexican',\n",
       "       'middle', 'minimal', 'miscellaneous', 'modern', 'mood', 'mpb',\n",
       "       'muslim', 'native', 'neoklassik', 'neue', 'new', 'newage',\n",
       "       'newwave', 'nu', 'nujazz', 'numetal', 'oceania', 'old', 'opera',\n",
       "       'orchestral', 'other', 'piano', 'podcasts', 'pop', 'popdance',\n",
       "       'popelectronic', 'popeurodance', 'poprussian', 'post',\n",
       "       'posthardcore', 'postrock', 'power', 'progmetal', 'progressive',\n",
       "       'psychedelic', 'punjabi', 'punk', 'quebecois', 'ragga', 'ram',\n",
       "       'rancheras', 'rap', 'rave', 'reggae', 'reggaeton', 'regional',\n",
       "       'relax', 'religious', 'retro', 'rhythm', 'rnb', 'rnr', 'rock',\n",
       "       'rockabilly', 'rockalternative', 'rockindie', 'rockother',\n",
       "       'romance', 'roots', 'ruspop', 'rusrap', 'rusrock', 'russian',\n",
       "       'salsa', 'samba', 'scenic', 'schlager', 'self', 'sertanejo',\n",
       "       'shanson', 'shoegazing', 'showtunes', 'singer', 'ska', 'skarock',\n",
       "       'slow', 'smooth', 'soft', 'soul', 'soulful', 'sound', 'soundtrack',\n",
       "       'southern', 'specialty', 'speech', 'spiritual', 'sport',\n",
       "       'stonerrock', 'surf', 'swing', 'synthpop', 'synthrock',\n",
       "       'sängerportrait', 'tango', 'tanzorchester', 'taraftar', 'tatar',\n",
       "       'tech', 'techno', 'teen', 'thrash', 'top', 'traditional',\n",
       "       'tradjazz', 'trance', 'tribal', 'trip', 'triphop', 'tropical',\n",
       "       'türk', 'türkçe', 'ukrrock', 'unknown', 'urban', 'uzbek',\n",
       "       'variété', 'vi', 'videogame', 'vocal', 'western', 'world',\n",
       "       'worldbeat', 'ïîï', 'электроника'], dtype=object)"
      ]
     },
     "execution_count": 437,
     "metadata": {},
     "output_type": "execute_result"
    }
   ],
   "source": [
    "df['genre'].sort_values().unique()"
   ]
  },
  {
   "cell_type": "markdown",
   "metadata": {
    "deletable": false,
    "editable": false,
    "id": "qej-Qmuo_Zct",
    "tags": [
     "start_task"
    ]
   },
   "source": [
    "**Задание 16**\n",
    "\n",
    "Просмотрите список и найдите неявные дубликаты названия `hiphop`. Это могут быть названия с ошибками или альтернативные названия того же жанра.\n",
    "\n",
    "Вы увидите следующие неявные дубликаты:\n",
    "* *hip*,\n",
    "* *hop*,\n",
    "* *hip-hop*.\n",
    "\n",
    "Чтобы очистить от них таблицу используйте метод `replace()` с двумя аргументами: списком строк-дубликатов (включащий *hip*, *hop* и *hip-hop*) и строкой с правильным значением. Вам нужно исправить колонку `genre` в таблице `df`: заменить каждое значение из списка дубликатов на верное. Вместо `hip`, `hop` и `hip-hop` в таблице должно быть значение `hiphop`:"
   ]
  },
  {
   "cell_type": "code",
   "execution_count": 438,
   "metadata": {
    "deletable": false,
    "id": "ErNDkmns_Zct"
   },
   "outputs": [],
   "source": [
    "df = df.replace(['hip', 'hop', 'hip-hop'], 'hiphop') # Устранение неявных дубликатов"
   ]
  },
  {
   "cell_type": "markdown",
   "metadata": {
    "deletable": false,
    "editable": false,
    "id": "zQKF16_RG15m",
    "tags": [
     "start_task"
    ]
   },
   "source": [
    "**Задание 17**\n",
    "\n",
    "Проверьте, что заменили неправильные названия:\n",
    "\n",
    "*   hip,\n",
    "*   hop,\n",
    "*   hip-hop.\n",
    "\n",
    "Выведите отсортированный список уникальных значений столбца `genre`:"
   ]
  },
  {
   "cell_type": "code",
   "execution_count": 439,
   "metadata": {
    "deletable": false,
    "id": "wvixALnFG15m"
   },
   "outputs": [
    {
     "name": "stdout",
     "output_type": "stream",
     "text": [
      "['acid' 'acoustic' 'action' 'adult' 'africa' 'afrikaans' 'alternative'\n",
      " 'alternativepunk' 'ambient' 'americana' 'animated' 'anime' 'arabesk'\n",
      " 'arabic' 'arena' 'argentinetango' 'art' 'audiobook' 'author' 'avantgarde'\n",
      " 'axé' 'baile' 'balkan' 'beats' 'bigroom' 'black' 'bluegrass' 'blues'\n",
      " 'bollywood' 'bossa' 'brazilian' 'breakbeat' 'breaks' 'broadway'\n",
      " 'cantautori' 'cantopop' 'canzone' 'caribbean' 'caucasian' 'celtic'\n",
      " 'chamber' 'chanson' 'children' 'chill' 'chinese' 'choral' 'christian'\n",
      " 'christmas' 'classical' 'classicmetal' 'club' 'colombian' 'comedy'\n",
      " 'conjazz' 'contemporary' 'country' 'cuban' 'dance' 'dancehall' 'dancepop'\n",
      " 'dark' 'death' 'deep' 'deutschrock' 'deutschspr' 'dirty' 'disco' 'dnb'\n",
      " 'documentary' 'downbeat' 'downtempo' 'drum' 'dub' 'dubstep' 'eastern'\n",
      " 'easy' 'electronic' 'electropop' 'emo' 'entehno' 'epicmetal' 'estrada'\n",
      " 'ethnic' 'eurofolk' 'european' 'experimental' 'extrememetal' 'fado'\n",
      " 'fairytail' 'film' 'fitness' 'flamenco' 'folk' 'folklore' 'folkmetal'\n",
      " 'folkrock' 'folktronica' 'forró' 'frankreich' 'französisch' 'french'\n",
      " 'funk' 'future' 'gangsta' 'garage' 'german' 'ghazal' 'gitarre' 'glitch'\n",
      " 'gospel' 'gothic' 'grime' 'grunge' 'gypsy' 'handsup' \"hard'n'heavy\"\n",
      " 'hardcore' 'hardstyle' 'hardtechno' 'hiphop' 'historisch' 'holiday'\n",
      " 'horror' 'house' 'hymn' 'idm' 'independent' 'indian' 'indie' 'indipop'\n",
      " 'industrial' 'inspirational' 'instrumental' 'international' 'irish' 'jam'\n",
      " 'japanese' 'jazz' 'jewish' 'jpop' 'jungle' 'k-pop' 'karadeniz' 'karaoke'\n",
      " 'kayokyoku' 'korean' 'laiko' 'latin' 'latino' 'leftfield' 'local'\n",
      " 'lounge' 'loungeelectronic' 'lovers' 'malaysian' 'mandopop' 'marschmusik'\n",
      " 'meditative' 'mediterranean' 'melodic' 'metal' 'metalcore' 'mexican'\n",
      " 'middle' 'minimal' 'miscellaneous' 'modern' 'mood' 'mpb' 'muslim'\n",
      " 'native' 'neoklassik' 'neue' 'new' 'newage' 'newwave' 'nu' 'nujazz'\n",
      " 'numetal' 'oceania' 'old' 'opera' 'orchestral' 'other' 'piano' 'podcasts'\n",
      " 'pop' 'popdance' 'popelectronic' 'popeurodance' 'poprussian' 'post'\n",
      " 'posthardcore' 'postrock' 'power' 'progmetal' 'progressive' 'psychedelic'\n",
      " 'punjabi' 'punk' 'quebecois' 'ragga' 'ram' 'rancheras' 'rap' 'rave'\n",
      " 'reggae' 'reggaeton' 'regional' 'relax' 'religious' 'retro' 'rhythm'\n",
      " 'rnb' 'rnr' 'rock' 'rockabilly' 'rockalternative' 'rockindie' 'rockother'\n",
      " 'romance' 'roots' 'ruspop' 'rusrap' 'rusrock' 'russian' 'salsa' 'samba'\n",
      " 'scenic' 'schlager' 'self' 'sertanejo' 'shanson' 'shoegazing' 'showtunes'\n",
      " 'singer' 'ska' 'skarock' 'slow' 'smooth' 'soft' 'soul' 'soulful' 'sound'\n",
      " 'soundtrack' 'southern' 'specialty' 'speech' 'spiritual' 'sport'\n",
      " 'stonerrock' 'surf' 'swing' 'synthpop' 'synthrock' 'sängerportrait'\n",
      " 'tango' 'tanzorchester' 'taraftar' 'tatar' 'tech' 'techno' 'teen'\n",
      " 'thrash' 'top' 'traditional' 'tradjazz' 'trance' 'tribal' 'trip'\n",
      " 'triphop' 'tropical' 'türk' 'türkçe' 'ukrrock' 'unknown' 'urban' 'uzbek'\n",
      " 'variété' 'vi' 'videogame' 'vocal' 'western' 'world' 'worldbeat' 'ïîï'\n",
      " 'электроника']\n"
     ]
    }
   ],
   "source": [
    "print(df['genre'].sort_values().unique()) # Проверка на неявные дубликаты"
   ]
  },
  {
   "cell_type": "markdown",
   "metadata": {
    "deletable": false,
    "editable": false,
    "id": "jz6a9-7HQUDd"
   },
   "source": [
    "**Выводы**\n",
    "\n",
    "Предобработка обнаружила три проблемы в данных:\n",
    "\n",
    "- нарушения в стиле заголовков,\n",
    "- пропущенные значения,\n",
    "- дубликаты — явные и неявные.\n",
    "\n",
    "Вы исправили заголовки, чтобы упростить работу с таблицей. Без дубликатов исследование станет более точным.\n",
    "\n",
    "Пропущенные значения вы заменили на `'unknown'`. Ещё предстоит увидеть, не повредят ли исследованию пропуски в колонке `genre`.\n",
    "\n",
    "Теперь можно перейти к проверке гипотез. "
   ]
  },
  {
   "cell_type": "markdown",
   "metadata": {
    "deletable": false,
    "editable": false,
    "id": "WttZHXH0SqKk"
   },
   "source": [
    "## Проверка гипотез"
   ]
  },
  {
   "cell_type": "markdown",
   "metadata": {
    "deletable": false,
    "editable": false,
    "id": "Im936VVi_Zcu"
   },
   "source": [
    "### Сравнение поведения пользователей двух столиц"
   ]
  },
  {
   "cell_type": "markdown",
   "metadata": {
    "deletable": false,
    "editable": false,
    "id": "nwt_MuaL_Zcu"
   },
   "source": [
    "Первая гипотеза утверждает, что пользователи по-разному слушают музыку в Москве и Санкт-Петербурге. Проверьте это предположение по данным о трёх днях недели — понедельнике, среде и пятнице. Для этого:\n",
    "\n",
    "* Разделите пользователей Москвы и Санкт-Петербурга.\n",
    "* Сравните, сколько треков послушала каждая группа пользователей в понедельник, среду и пятницу.\n"
   ]
  },
  {
   "cell_type": "markdown",
   "metadata": {
    "deletable": false,
    "editable": false,
    "id": "8Dw_YMmT_Zcu",
    "tags": [
     "start_task"
    ]
   },
   "source": [
    "**Задание 18**\n",
    "\n",
    "Для тренировки сначала выполните каждый из расчётов по отдельности. \n",
    "\n",
    "Оцените активность пользователей в каждом городе. Сгруппируйте данные по городу и посчитайте прослушивания в каждой группе.\n",
    "\n"
   ]
  },
  {
   "cell_type": "code",
   "execution_count": 440,
   "metadata": {
    "deletable": false,
    "id": "0_Qs96oh_Zcu"
   },
   "outputs": [
    {
     "name": "stdout",
     "output_type": "stream",
     "text": [
      "city\n",
      "Moscow              42741\n",
      "Saint-Petersburg    18512\n",
      "Name: user_id, dtype: int64\n"
     ]
    }
   ],
   "source": [
    "city_group = df.groupby('city')['user_id'].count()\n",
    "print(city_group) # Подсчёт прослушиваний в каждом городе"
   ]
  },
  {
   "cell_type": "markdown",
   "metadata": {
    "deletable": false,
    "editable": false,
    "id": "dzli3w8o_Zcu",
    "tags": [
     "start_task"
    ]
   },
   "source": [
    "В Москве прослушиваний больше, чем в Петербурге. Из этого не следует, что московские пользователи чаще слушают музыку. Просто самих пользователей в Москве больше.\n",
    "\n",
    "**Задание 19**\n",
    "\n",
    "Теперь сгруппируйте данные по дню недели и посчитайте прослушивания в понедельник, среду и пятницу. Учтите, что в данных есть информация о прослушиваниях только за эти дни.\n"
   ]
  },
  {
   "cell_type": "code",
   "execution_count": 441,
   "metadata": {
    "deletable": false,
    "id": "uZMKjiJz_Zcu"
   },
   "outputs": [
    {
     "name": "stdout",
     "output_type": "stream",
     "text": [
      "day\n",
      "Friday       21840\n",
      "Monday       21354\n",
      "Wednesday    18059\n",
      "Name: user_id, dtype: int64\n"
     ]
    }
   ],
   "source": [
    "day_group = df.groupby('day')['user_id'].count() \n",
    "print(day_group) # Подсчёт прослушиваний в каждый из трёх дней"
   ]
  },
  {
   "cell_type": "markdown",
   "metadata": {
    "deletable": false,
    "editable": false,
    "id": "cC2tNrlL_Zcu"
   },
   "source": [
    "В среднем пользователи из двух городов менее активны по средам. Но картина может измениться, если рассмотреть каждый город в отдельности."
   ]
  },
  {
   "cell_type": "markdown",
   "metadata": {
    "deletable": false,
    "editable": false,
    "id": "POzs8bGa_Zcu",
    "tags": [
     "start_task"
    ]
   },
   "source": [
    "**Задание 20**\n",
    "\n",
    "\n",
    "Вы видели, как работает группировка по городу и по дням недели. Теперь напишите функцию, которая объединит два эти расчёта.\n",
    "\n",
    "Создайте функцию `number_tracks()`, которая посчитает прослушивания для заданного дня и города. Ей понадобятся два параметра:\n",
    "* день недели,\n",
    "* название города.\n",
    "\n",
    "В функции сохраните в переменную строки исходной таблицы, у которых значение:\n",
    "  * в колонке `day` равно параметру `day`,\n",
    "  * в колонке `city` равно параметру `city`.\n",
    "\n",
    "Для этого примените последовательную фильтрацию с логической индексацией (или сложные логические выражения в одну строку, если вы уже знакомы с ними).\n",
    "\n",
    "Затем посчитайте значения в столбце `user_id` получившейся таблицы. Результат сохраните в новую переменную. Верните эту переменную из функции."
   ]
  },
  {
   "cell_type": "code",
   "execution_count": 442,
   "metadata": {
    "deletable": false,
    "id": "Nz3GdQB1_Zcu"
   },
   "outputs": [],
   "source": [
    "def number_tracks(day, city):\n",
    "    track_list = df[(df['day'] == day) & (df['city'] == city)]\n",
    " \n",
    "    track_list_count = track_list['user_id'].count()\n",
    "    return track_list_count\n",
    "\n",
    "\n",
    "\n",
    "                     # <создание функции number_tracks()>\n",
    "# Объявляется функция с двумя параметрами: day, city.\n",
    "# В переменной track_list сохраняются те строки таблицы df, для которых \n",
    "# значение в столбце 'day' равно параметру day и одновременно значение\n",
    "# в столбце 'city' равно параметру city (используйте последовательную фильтрацию\n",
    "# с помощью логической индексации или сложные логические выражения в одну строку, если вы уже знакомы с ними).\n",
    "# В переменной track_list_count сохраняется число значений столбца 'user_id',\n",
    "# рассчитанное методом count() для таблицы track_list.\n",
    "# Функция возвращает число - значение track_list_count.\n",
    "\n",
    "# Функция для подсчёта прослушиваний для конкретного города и дня.\n",
    "# С помощью последовательной фильтрации с логической индексацией она \n",
    "# сначала получит из исходной таблицы строки с нужным днём,\n",
    "# затем из результата отфильтрует строки с нужным городом,\n",
    "# методом count() посчитает количество значений в колонке user_id. \n",
    "# Это количество функция вернёт в качестве результата"
   ]
  },
  {
   "cell_type": "markdown",
   "metadata": {
    "deletable": false,
    "editable": false,
    "id": "ytf7xFrFJQ2r",
    "tags": [
     "start_task"
    ]
   },
   "source": [
    "**Задание 21**\n",
    "\n",
    "Вызовите `number_tracks()` шесть раз, меняя значение параметров — так, чтобы получить данные для каждого города в каждый из трёх дней."
   ]
  },
  {
   "cell_type": "code",
   "execution_count": 443,
   "metadata": {
    "deletable": false,
    "id": "rJcRATNQ_Zcu"
   },
   "outputs": [
    {
     "name": "stdout",
     "output_type": "stream",
     "text": [
      "15740\n"
     ]
    }
   ],
   "source": [
    "day = 'Monday'\n",
    "city = 'Moscow'\n",
    "print(number_tracks(day, city)) # количество прослушиваний в Москве по понедельникам"
   ]
  },
  {
   "cell_type": "code",
   "execution_count": 444,
   "metadata": {
    "deletable": false,
    "id": "hq_ncZ5T_Zcu"
   },
   "outputs": [
    {
     "name": "stdout",
     "output_type": "stream",
     "text": [
      "5614\n"
     ]
    }
   ],
   "source": [
    "day = 'Monday'\n",
    "city = 'Saint-Petersburg'\n",
    "print(number_tracks(day, city)) # количество прослушиваний в Санкт-Петербурге по понедельникам"
   ]
  },
  {
   "cell_type": "code",
   "execution_count": 445,
   "metadata": {
    "deletable": false,
    "id": "_NTy2VPU_Zcu"
   },
   "outputs": [
    {
     "name": "stdout",
     "output_type": "stream",
     "text": [
      "11056\n"
     ]
    }
   ],
   "source": [
    "day = 'Wednesday'\n",
    "city = 'Moscow'\n",
    "print(number_tracks(day, city)) # количество прослушиваний в Москве по средам"
   ]
  },
  {
   "cell_type": "code",
   "execution_count": 446,
   "metadata": {
    "deletable": false,
    "id": "j2y3TAwo_Zcu"
   },
   "outputs": [
    {
     "name": "stdout",
     "output_type": "stream",
     "text": [
      "7003\n"
     ]
    }
   ],
   "source": [
    "day = 'Wednesday'\n",
    "city = 'Saint-Petersburg'\n",
    "print(number_tracks(day, city)) # количество прослушиваний в Санкт-Петербурге по средам"
   ]
  },
  {
   "cell_type": "code",
   "execution_count": 447,
   "metadata": {
    "deletable": false,
    "id": "vYDw5u_K_Zcu"
   },
   "outputs": [
    {
     "name": "stdout",
     "output_type": "stream",
     "text": [
      "15945\n"
     ]
    }
   ],
   "source": [
    "day = 'Friday'\n",
    "city = 'Moscow'\n",
    "print(number_tracks(day, city)) # количество прослушиваний в Москве по пятницам"
   ]
  },
  {
   "cell_type": "code",
   "execution_count": 448,
   "metadata": {
    "deletable": false,
    "id": "8_yzFtW3_Zcu"
   },
   "outputs": [
    {
     "name": "stdout",
     "output_type": "stream",
     "text": [
      "5895\n"
     ]
    }
   ],
   "source": [
    "day = 'Friday'\n",
    "city = 'Saint-Petersburg'\n",
    "print(number_tracks(day, city)) # количество прослушиваний в Санкт-Петербурге по пятницам"
   ]
  },
  {
   "cell_type": "markdown",
   "metadata": {
    "deletable": false,
    "editable": false,
    "id": "7QXffbO-_Zcu",
    "tags": [
     "start_task"
    ]
   },
   "source": [
    "**Задание 22**\n",
    "\n",
    "Создайте c помощью конструктора `pd.DataFrame` таблицу, где\n",
    "* названия колонок — `['city', 'monday', 'wednesday', 'friday']`;\n",
    "* данные — результаты, которые вы получили с помощью `number_tracks`."
   ]
  },
  {
   "cell_type": "code",
   "execution_count": 449,
   "metadata": {
    "deletable": false,
    "id": "APAcLpOr_Zcu"
   },
   "outputs": [
    {
     "name": "stdout",
     "output_type": "stream",
     "text": [
      "               city  monday  wednesday  friday\n",
      "0            Moscow   15740      11056   15945\n",
      "1  Saint-Petersburg    5614       7003    5895\n"
     ]
    }
   ],
   "source": [
    "columns = ['city' , 'monday' , 'wednesday' , 'friday']\n",
    "data = [['Moscow', 15740 , 11056, 15945] ,\n",
    "        ['Saint-Petersburg', 5614 , 7003 , 5895]]\n",
    "\n",
    "final_data_frame = pd.DataFrame(data=data, columns=columns)\n",
    "print(final_data_frame)\n",
    "\n",
    "\n",
    "\n",
    "\n",
    "# Таблица с результатами"
   ]
  },
  {
   "cell_type": "markdown",
   "metadata": {
    "deletable": false,
    "editable": false,
    "id": "-EgPIHYu_Zcu"
   },
   "source": [
    "**Выводы**\n",
    "\n",
    "Данные показывают разницу поведения пользователей:\n",
    "\n",
    "- В Москве пик прослушиваний приходится на понедельник и пятницу, а в среду заметен спад.\n",
    "- В Петербурге, наоборот, больше слушают музыку по средам. Активность в понедельник и пятницу здесь почти в равной мере уступает среде.\n",
    "\n",
    "Значит, данные говорят в пользу первой гипотезы."
   ]
  },
  {
   "cell_type": "markdown",
   "metadata": {
    "deletable": false,
    "editable": false,
    "id": "atZAxtq4_Zcu"
   },
   "source": [
    "### Музыка в начале и в конце недели"
   ]
  },
  {
   "cell_type": "markdown",
   "metadata": {
    "deletable": false,
    "editable": false,
    "id": "eXrQqXFH_Zcu"
   },
   "source": [
    "Согласно второй гипотезе, утром в понедельник в Москве преобладают одни жанры, а в Петербурге — другие. Так же и вечером пятницы преобладают разные жанры — в зависимости от города."
   ]
  },
  {
   "cell_type": "markdown",
   "metadata": {
    "deletable": false,
    "editable": false,
    "id": "S8UcW6Hw_Zcu",
    "tags": [
     "start_task"
    ]
   },
   "source": [
    "**Задание 23**\n",
    "\n",
    "Сохраните таблицы с данными в две переменные:\n",
    "* по Москве — в `moscow_general`;\n",
    "* по Санкт-Петербургу — в `spb_general`."
   ]
  },
  {
   "cell_type": "code",
   "execution_count": 450,
   "metadata": {
    "deletable": false,
    "id": "qeaFfM_P_Zcu"
   },
   "outputs": [],
   "source": [
    "moscow_general = df[df['city'] == 'Moscow']\n",
    "\n",
    "# получение таблицы moscow_general из тех строк таблицы df, \n",
    "# для которых значение в столбце 'city' равно 'Moscow'\n"
   ]
  },
  {
   "cell_type": "code",
   "execution_count": 451,
   "metadata": {
    "deletable": false,
    "id": "ORaVRKto_Zcu"
   },
   "outputs": [],
   "source": [
    "spb_general = df[df['city'] == 'Saint-Petersburg']\n",
    "\n",
    "# получение таблицы spb_general из тех строк таблицы df,\n",
    "# для которых значение в столбце 'city' равно 'Saint-Petersburg'\n"
   ]
  },
  {
   "cell_type": "markdown",
   "metadata": {
    "deletable": false,
    "editable": false,
    "id": "MEJV-CX2_Zcu",
    "tags": [
     "start_task"
    ]
   },
   "source": [
    "**Задание 24**\n",
    "\n",
    "Создайте функцию `genre_weekday()` с четырьмя параметрами:\n",
    "* таблица (датафрейм) с данными,\n",
    "* день недели,\n",
    "* начальная временная метка в формате 'hh:mm', \n",
    "* последняя временная метка в формате 'hh:mm'.\n",
    "\n",
    "Функция должна вернуть информацию о топ-10 жанров тех треков, которые прослушивали в указанный день, в промежутке между двумя отметками времени."
   ]
  },
  {
   "cell_type": "code",
   "execution_count": 461,
   "metadata": {
    "deletable": false,
    "id": "laJT9BYl_Zcu"
   },
   "outputs": [],
   "source": [
    "# Объявление функции genre_weekday() с параметрами table, day, time1, time2,\n",
    "# которая возвращает информацию о самых популярных жанрах в указанный день в\n",
    "# заданное время:\n",
    "# 1) в переменную genre_df сохраняются те строки переданного датафрейма table, для\n",
    "#    которых одновременно:\n",
    "#    - значение в столбце day равно значению аргумента day\n",
    "#    - значение в столбце time больше значения аргумента time1\n",
    "#    - значение в столбце time меньше значения аргумента time2\n",
    "#    Используйте последовательную фильтрацию с помощью логической индексации.\n",
    "# 2) сгруппировать датафрейм genre_df по столбцу genre, взять один из его\n",
    "#    столбцов и посчитать методом count() количество записей для каждого из\n",
    "#    присутствующих жанров, получившийся Series записать в переменную\n",
    "#    genre_df_count\n",
    "# 3) отсортировать genre_df_count по убыванию встречаемости и сохранить\n",
    "#    в переменную genre_df_sorted\n",
    "# 4) вернуть Series из 10 первых значений genre_df_sorted, это будут топ-10\n",
    "#    популярных жанров (в указанный день, в заданное время)\n",
    "\n",
    "def genre_weekday(df, day, time1, time2):\n",
    "    # последовательная фильтрация\n",
    "    # оставляем в genre_df только те строки df, у которых день равен day\n",
    "    genre_df = df[df['day'] == day] # ваш код здесь\n",
    "    # оставляем в genre_df только те строки genre_df, у которых время меньше time2\n",
    "    genre_df = genre_df[genre_df['time'] < time2] # ваш код здесь\n",
    "    # оставляем в genre_df только те строки genre_df, у которых время больше time1\n",
    "    genre_df = genre_df[genre_df['time'] > time1] # ваш код здесь\n",
    "    # сгруппируем отфильтрованный датафрейм по столбцу с названиями жанров, возьмём столбец genre и посчитаем кол-во строк для каждого жанра методом count()\n",
    "    genre_df_grouped = genre_df.groupby('genre')['genre'].count() # ваш код здесь\n",
    "    # отсортируем результат по убыванию (чтобы в начале Series оказались самые популярные жанры)\n",
    "    genre_df_sorted = genre_df_grouped.sort_values(ascending=False) # ваш код здесь\n",
    "    # вернём Series с 10 самыми популярными жанрами в указанный отрезок времени заданного дня\n",
    "    return genre_df_sorted[:10]"
   ]
  },
  {
   "cell_type": "markdown",
   "metadata": {
    "deletable": false,
    "editable": false,
    "id": "la2s2_PF_Zcu",
    "tags": [
     "start_task"
    ]
   },
   "source": [
    "**Задание 25**\n",
    "\n",
    "\n",
    "Cравните результаты функции `genre_weekday()` для Москвы и Санкт-Петербурга в понедельник утром (с 7:00 до 11:00) и в пятницу вечером (с 17:00 до 23:00):"
   ]
  },
  {
   "cell_type": "code",
   "execution_count": 453,
   "metadata": {
    "deletable": false,
    "id": "yz7itPUQ_Zcu"
   },
   "outputs": [
    {
     "data": {
      "text/plain": [
       "genre\n",
       "pop            781\n",
       "dance          549\n",
       "electronic     480\n",
       "rock           474\n",
       "hiphop         286\n",
       "ruspop         186\n",
       "world          181\n",
       "rusrap         175\n",
       "alternative    164\n",
       "unknown        161\n",
       "Name: user_id, dtype: int64"
      ]
     },
     "execution_count": 453,
     "metadata": {},
     "output_type": "execute_result"
    }
   ],
   "source": [
    "genre_weekday(moscow_general, 'Monday', '07:00', '11:00')\n",
    "# вызов функции для утра понедельника в Москве (вместо df — таблица moscow_general)\n",
    "# объекты, хранящие время, являются строками и сравниваются как строки\n",
    "# пример вызова: genre_weekday(moscow_general, 'Monday', '07:00', '11:00')"
   ]
  },
  {
   "cell_type": "code",
   "execution_count": 454,
   "metadata": {
    "deletable": false,
    "id": "kwUcHPdy_Zcu"
   },
   "outputs": [
    {
     "data": {
      "text/plain": [
       "genre\n",
       "pop            218\n",
       "dance          182\n",
       "rock           162\n",
       "electronic     147\n",
       "hiphop          80\n",
       "ruspop          64\n",
       "alternative     58\n",
       "rusrap          55\n",
       "jazz            44\n",
       "classical       40\n",
       "Name: user_id, dtype: int64"
      ]
     },
     "execution_count": 454,
     "metadata": {},
     "output_type": "execute_result"
    }
   ],
   "source": [
    "genre_weekday(spb_general, 'Monday', '07:00', '11:00')\n",
    "# вызов функции для утра понедельника в Петербурге (вместо df — таблица spb_general)"
   ]
  },
  {
   "cell_type": "code",
   "execution_count": 455,
   "metadata": {
    "deletable": false,
    "id": "EzXVRE1o_Zcu"
   },
   "outputs": [
    {
     "data": {
      "text/plain": [
       "genre\n",
       "pop            713\n",
       "rock           517\n",
       "dance          495\n",
       "electronic     482\n",
       "hiphop         273\n",
       "world          208\n",
       "ruspop         170\n",
       "alternative    163\n",
       "classical      163\n",
       "rusrap         142\n",
       "Name: user_id, dtype: int64"
      ]
     },
     "execution_count": 455,
     "metadata": {},
     "output_type": "execute_result"
    }
   ],
   "source": [
    "genre_weekday(moscow_general, 'Friday', '17:00', '23:00')\n",
    "# вызов функции для вечера пятницы в Москве"
   ]
  },
  {
   "cell_type": "code",
   "execution_count": 456,
   "metadata": {
    "deletable": false,
    "id": "JZaEKu5v_Zcu"
   },
   "outputs": [
    {
     "data": {
      "text/plain": [
       "genre\n",
       "pop            256\n",
       "electronic     216\n",
       "rock           216\n",
       "dance          210\n",
       "hiphop          97\n",
       "alternative     63\n",
       "jazz            61\n",
       "classical       60\n",
       "rusrap          59\n",
       "world           54\n",
       "Name: user_id, dtype: int64"
      ]
     },
     "execution_count": 456,
     "metadata": {},
     "output_type": "execute_result"
    }
   ],
   "source": [
    "genre_weekday(spb_general, 'Friday', '17:00', '23:00')\n",
    "# вызов функции для вечера пятницы в Петербурге"
   ]
  },
  {
   "cell_type": "markdown",
   "metadata": {
    "deletable": false,
    "editable": false,
    "id": "wrCe4MNX_Zcu"
   },
   "source": [
    "**Выводы**\n",
    "\n",
    "Если сравнить топ-10 жанров в понедельник утром, можно сделать такие выводы:\n",
    "\n",
    "1. В Москве и Петербурге слушают похожую музыку. Единственное отличие — в московский рейтинг вошёл жанр “world”, а в петербургский — джаз и классика.\n",
    "\n",
    "2. В Москве пропущенных значений оказалось так много, что значение `'unknown'` заняло десятое место среди самых популярных жанров. Значит, пропущенные значения занимают существенную долю в данных и угрожают достоверности исследования.\n",
    "\n",
    "Вечер пятницы не меняет эту картину. Некоторые жанры поднимаются немного выше, другие спускаются, но в целом топ-10 остаётся тем же самым.\n",
    "\n",
    "Таким образом, вторая гипотеза подтвердилась лишь частично:\n",
    "* Пользователи слушают похожую музыку в начале недели и в конце.\n",
    "* Разница между Москвой и Петербургом не слишком выражена. В Москве чаще слушают русскую популярную музыку, в Петербурге — джаз.\n",
    "\n",
    "Однако пропуски в данных ставят под сомнение этот результат. В Москве их так много, что рейтинг топ-10 мог бы выглядеть иначе, если бы не утерянные  данные о жанрах."
   ]
  },
  {
   "cell_type": "markdown",
   "metadata": {
    "deletable": false,
    "editable": false,
    "id": "JolODAqr_Zcu"
   },
   "source": [
    "### Жанровые предпочтения в Москве и Петербурге\n",
    "\n",
    "Гипотеза: Петербург — столица рэпа, музыку этого жанра там слушают чаще, чем в Москве.  А Москва — город контрастов, в котором, тем не менее, преобладает поп-музыка."
   ]
  },
  {
   "cell_type": "markdown",
   "metadata": {
    "deletable": false,
    "editable": false,
    "id": "DlegSvaT_Zcu",
    "tags": [
     "start_task"
    ]
   },
   "source": [
    "**Задание 26**\n",
    "\n",
    "Сгруппируйте таблицу `moscow_general` по жанру и посчитайте прослушивания треков каждого жанра методом `count()`. Затем отсортируйте результат в порядке убывания и сохраните его в таблице `moscow_genres`."
   ]
  },
  {
   "cell_type": "code",
   "execution_count": 463,
   "metadata": {
    "deletable": false,
    "id": "r19lIPke_Zcu"
   },
   "outputs": [],
   "source": [
    "moscow_genres = moscow_general.groupby('genre')['genre'].count()\n",
    "moscow_genres = moscow_genres.sort_values(ascending=False)\n",
    "\n",
    "# одной строкой: группировка таблицы moscow_general по столбцу 'genre', \n",
    "# подсчёт числа значений 'genre' в этой группировке методом count(), \n",
    "# сортировка получившегося Series в порядке убывания и сохранение в moscow_genres"
   ]
  },
  {
   "cell_type": "markdown",
   "metadata": {
    "deletable": false,
    "editable": false,
    "id": "6kMuomxTiIr8",
    "tags": [
     "start_task"
    ]
   },
   "source": [
    "**Задание 27**\n",
    "\n",
    "Выведите на экран первые десять строк `moscow_genres`:"
   ]
  },
  {
   "cell_type": "code",
   "execution_count": 464,
   "metadata": {
    "deletable": false,
    "id": "WhCSooF8_Zcv"
   },
   "outputs": [
    {
     "name": "stdout",
     "output_type": "stream",
     "text": [
      "genre\n",
      "pop            5892\n",
      "dance          4435\n",
      "rock           3965\n",
      "electronic     3786\n",
      "hiphop         2096\n",
      "classical      1616\n",
      "world          1432\n",
      "alternative    1379\n",
      "ruspop         1372\n",
      "rusrap         1161\n",
      "Name: genre, dtype: int64\n"
     ]
    }
   ],
   "source": [
    "print(moscow_genres.head(10)) # просмотр первых 10 строк moscow_genres"
   ]
  },
  {
   "cell_type": "markdown",
   "metadata": {
    "deletable": false,
    "editable": false,
    "id": "cnPG2vnN_Zcv",
    "tags": [
     "start_task"
    ]
   },
   "source": [
    "**Задание 28**\n",
    "\n",
    "\n",
    "Теперь повторите то же и для Петербурга.\n",
    "\n",
    "Сгруппируйте таблицу `spb_general` по жанру. Посчитайте прослушивания треков каждого жанра. Результат отсортируйте в порядке убывания и сохраните в таблице `spb_genres`:\n"
   ]
  },
  {
   "cell_type": "code",
   "execution_count": 466,
   "metadata": {
    "deletable": false,
    "id": "gluLIpE7_Zcv"
   },
   "outputs": [],
   "source": [
    "spb_genres = spb_general.groupby('genre')['genre'].count()\n",
    "spb_genres = spb_genres.sort_values(ascending=False)\n",
    "\n",
    "# одной строкой: группировка таблицы spb_general по столбцу 'genre', \n",
    "# подсчёт числа значений 'genre' в этой группировке методом count(), \n",
    "# сортировка получившегося Series в порядке убывания и сохранение в spb_genres"
   ]
  },
  {
   "cell_type": "markdown",
   "metadata": {
    "deletable": false,
    "editable": false,
    "id": "5Doha_ODgyQ8",
    "tags": [
     "start_task"
    ]
   },
   "source": [
    "**Задание 29**\n",
    "\n",
    "Выведите на экран первые десять строк `spb_genres`:"
   ]
  },
  {
   "cell_type": "code",
   "execution_count": 467,
   "metadata": {
    "deletable": false,
    "id": "uaGJHjVU_Zcv"
   },
   "outputs": [
    {
     "name": "stdout",
     "output_type": "stream",
     "text": [
      "genre\n",
      "pop            2431\n",
      "dance          1932\n",
      "rock           1879\n",
      "electronic     1736\n",
      "hiphop          960\n",
      "alternative     649\n",
      "classical       646\n",
      "rusrap          564\n",
      "ruspop          538\n",
      "world           515\n",
      "Name: genre, dtype: int64\n"
     ]
    }
   ],
   "source": [
    "print(spb_genres.head(10)) # просмотр первых 10 строк spb_genres"
   ]
  },
  {
   "cell_type": "markdown",
   "metadata": {
    "deletable": false,
    "editable": false,
    "id": "RY51YJYu_Zcv"
   },
   "source": [
    "**Выводы**"
   ]
  },
  {
   "cell_type": "markdown",
   "metadata": {
    "deletable": false,
    "editable": false,
    "id": "nVhnJEm__Zcv"
   },
   "source": [
    "Гипотеза частично подтвердилась:\n",
    "* Поп-музыка — самый популярный жанр в Москве, как и предполагала гипотеза. Более того, в топ-10 жанров встречается близкий жанр — русская популярная музыка.\n",
    "* Вопреки ожиданиям, рэп одинаково популярен в Москве и Петербурге. \n"
   ]
  },
  {
   "cell_type": "markdown",
   "metadata": {
    "deletable": false,
    "editable": false,
    "id": "ykKQ0N65_Zcv"
   },
   "source": [
    "## Итоги исследования"
   ]
  },
  {
   "cell_type": "markdown",
   "metadata": {
    "deletable": false,
    "editable": false,
    "id": "tjUwbHb3_Zcv"
   },
   "source": [
    "Вы проверили три гипотезы и установили:\n",
    "\n",
    "1. День недели по-разному влияет на активность пользователей в Москве и Петербурге. \n",
    "\n",
    "Первая гипотеза полностью подтвердилась.\n",
    "\n",
    "2. Музыкальные предпочтения не сильно меняются в течение недели — будь то Москва или Петербург. Небольшие различия заметны в начале недели, по понедельникам:\n",
    "* в Москве слушают музыку жанра “world”,\n",
    "* в Петербурге — джаз и классику.\n",
    "\n",
    "Таким образом, вторая гипотеза подтвердилась лишь отчасти. Этот результат мог оказаться иным, если бы не пропуски в данных.\n",
    "\n",
    "3. Во вкусах пользователей Москвы и Петербурга больше общего чем различий. Вопреки ожиданиям, предпочтения жанров в Петербурге напоминают московские.\n",
    "\n",
    "Третья гипотеза не подтвердилась. Если различия в предпочтениях и существуют, на основной массе пользователей они незаметны.\n",
    "\n",
    "**На практике исследования содержат проверки статистических гипотез.**\n",
    "Из данных одного сервиса не всегда можно сделать вывод о всех жителях города.\n",
    "Проверки статистических гипотез покажут, насколько они достоверны, исходя из имеющихся данных. \n",
    "С методами проверок гипотез вы ещё познакомитесь в следующих темах."
   ]
  }
 ],
 "metadata": {
  "ExecuteTimeLog": [
   {
    "duration": 57,
    "start_time": "2022-10-02T20:56:52.607Z"
   },
   {
    "duration": 448,
    "start_time": "2022-10-02T20:57:04.009Z"
   },
   {
    "duration": 3,
    "start_time": "2022-10-02T20:57:23.305Z"
   },
   {
    "duration": 90,
    "start_time": "2022-10-02T21:02:15.148Z"
   },
   {
    "duration": 35,
    "start_time": "2022-10-02T21:02:30.839Z"
   },
   {
    "duration": 11,
    "start_time": "2022-10-02T21:02:46.684Z"
   },
   {
    "duration": 9,
    "start_time": "2022-10-02T21:03:17.634Z"
   },
   {
    "duration": 10,
    "start_time": "2022-10-02T21:03:41.216Z"
   },
   {
    "duration": 229,
    "start_time": "2022-10-02T21:08:43.160Z"
   },
   {
    "duration": 9,
    "start_time": "2022-10-02T21:08:51.870Z"
   },
   {
    "duration": 20,
    "start_time": "2022-10-02T21:09:18.310Z"
   },
   {
    "duration": 30,
    "start_time": "2022-10-02T21:10:04.739Z"
   },
   {
    "duration": 7,
    "start_time": "2022-10-02T21:11:21.458Z"
   },
   {
    "duration": 4,
    "start_time": "2022-10-02T21:18:11.430Z"
   },
   {
    "duration": 16,
    "start_time": "2022-10-02T21:23:00.420Z"
   },
   {
    "duration": 5,
    "start_time": "2022-10-02T21:23:20.332Z"
   },
   {
    "duration": 28,
    "start_time": "2022-10-02T21:29:09.652Z"
   },
   {
    "duration": 22,
    "start_time": "2022-10-02T21:49:41.618Z"
   },
   {
    "duration": 39,
    "start_time": "2022-10-02T21:50:44.081Z"
   },
   {
    "duration": 14,
    "start_time": "2022-10-02T21:51:16.490Z"
   },
   {
    "duration": 9,
    "start_time": "2022-10-02T21:54:57.306Z"
   },
   {
    "duration": 13,
    "start_time": "2022-10-02T21:55:03.982Z"
   },
   {
    "duration": 459,
    "start_time": "2022-10-02T21:56:44.781Z"
   },
   {
    "duration": 212,
    "start_time": "2022-10-02T21:56:45.242Z"
   },
   {
    "duration": 8,
    "start_time": "2022-10-02T21:56:45.456Z"
   },
   {
    "duration": 58,
    "start_time": "2022-10-02T21:56:45.466Z"
   },
   {
    "duration": 20,
    "start_time": "2022-10-02T21:56:45.526Z"
   },
   {
    "duration": 15,
    "start_time": "2022-10-02T21:56:45.547Z"
   },
   {
    "duration": 23,
    "start_time": "2022-10-02T21:56:45.564Z"
   },
   {
    "duration": 27,
    "start_time": "2022-10-02T21:56:45.595Z"
   },
   {
    "duration": 33,
    "start_time": "2022-10-02T21:56:45.624Z"
   },
   {
    "duration": 44,
    "start_time": "2022-10-02T21:56:45.660Z"
   },
   {
    "duration": 49,
    "start_time": "2022-10-02T21:56:45.706Z"
   },
   {
    "duration": 87,
    "start_time": "2022-10-02T21:56:45.756Z"
   },
   {
    "duration": 0,
    "start_time": "2022-10-02T21:56:45.846Z"
   },
   {
    "duration": 0,
    "start_time": "2022-10-02T21:56:45.847Z"
   },
   {
    "duration": 0,
    "start_time": "2022-10-02T21:56:45.848Z"
   },
   {
    "duration": 0,
    "start_time": "2022-10-02T21:56:45.849Z"
   },
   {
    "duration": 0,
    "start_time": "2022-10-02T21:56:45.850Z"
   },
   {
    "duration": 0,
    "start_time": "2022-10-02T21:56:45.851Z"
   },
   {
    "duration": 0,
    "start_time": "2022-10-02T21:56:45.852Z"
   },
   {
    "duration": 0,
    "start_time": "2022-10-02T21:56:45.853Z"
   },
   {
    "duration": 0,
    "start_time": "2022-10-02T21:56:45.855Z"
   },
   {
    "duration": 0,
    "start_time": "2022-10-02T21:56:45.856Z"
   },
   {
    "duration": 0,
    "start_time": "2022-10-02T21:56:45.858Z"
   },
   {
    "duration": 0,
    "start_time": "2022-10-02T21:56:45.859Z"
   },
   {
    "duration": 0,
    "start_time": "2022-10-02T21:56:45.860Z"
   },
   {
    "duration": 0,
    "start_time": "2022-10-02T21:56:45.861Z"
   },
   {
    "duration": 0,
    "start_time": "2022-10-02T21:56:45.862Z"
   },
   {
    "duration": 0,
    "start_time": "2022-10-02T21:56:45.890Z"
   },
   {
    "duration": 0,
    "start_time": "2022-10-02T21:56:45.892Z"
   },
   {
    "duration": 0,
    "start_time": "2022-10-02T21:56:45.893Z"
   },
   {
    "duration": 0,
    "start_time": "2022-10-02T21:56:45.895Z"
   },
   {
    "duration": 0,
    "start_time": "2022-10-02T21:56:45.896Z"
   },
   {
    "duration": 0,
    "start_time": "2022-10-02T21:56:45.897Z"
   },
   {
    "duration": 0,
    "start_time": "2022-10-02T21:56:45.899Z"
   },
   {
    "duration": 0,
    "start_time": "2022-10-02T21:56:45.900Z"
   },
   {
    "duration": 0,
    "start_time": "2022-10-02T21:56:45.901Z"
   },
   {
    "duration": 0,
    "start_time": "2022-10-02T21:56:45.903Z"
   },
   {
    "duration": 0,
    "start_time": "2022-10-02T21:56:45.904Z"
   },
   {
    "duration": 10,
    "start_time": "2022-10-02T22:01:44.960Z"
   },
   {
    "duration": 8,
    "start_time": "2022-10-02T22:01:56.751Z"
   },
   {
    "duration": 6,
    "start_time": "2022-10-02T22:02:18.205Z"
   },
   {
    "duration": 13387,
    "start_time": "2022-10-02T22:02:29.818Z"
   },
   {
    "duration": 86,
    "start_time": "2022-10-02T22:02:50.607Z"
   },
   {
    "duration": 83,
    "start_time": "2022-10-02T22:02:56.096Z"
   },
   {
    "duration": 109,
    "start_time": "2022-10-02T22:03:38.707Z"
   },
   {
    "duration": 83,
    "start_time": "2022-10-02T22:04:56.272Z"
   },
   {
    "duration": 135,
    "start_time": "2022-10-02T22:05:01.618Z"
   },
   {
    "duration": 89,
    "start_time": "2022-10-02T22:05:05.193Z"
   },
   {
    "duration": 92,
    "start_time": "2022-10-02T22:05:43.712Z"
   },
   {
    "duration": 89,
    "start_time": "2022-10-02T22:06:05.691Z"
   },
   {
    "duration": 151,
    "start_time": "2022-10-02T22:07:31.778Z"
   },
   {
    "duration": 89,
    "start_time": "2022-10-02T22:07:45.960Z"
   },
   {
    "duration": 103,
    "start_time": "2022-10-02T22:07:52.775Z"
   },
   {
    "duration": 71,
    "start_time": "2022-10-02T22:07:57.386Z"
   },
   {
    "duration": 3,
    "start_time": "2022-10-02T22:08:49.366Z"
   },
   {
    "duration": 209,
    "start_time": "2022-10-02T22:08:49.375Z"
   },
   {
    "duration": 8,
    "start_time": "2022-10-02T22:08:49.588Z"
   },
   {
    "duration": 39,
    "start_time": "2022-10-02T22:08:49.598Z"
   },
   {
    "duration": 3,
    "start_time": "2022-10-02T22:08:49.639Z"
   },
   {
    "duration": 6,
    "start_time": "2022-10-02T22:08:49.644Z"
   },
   {
    "duration": 10,
    "start_time": "2022-10-02T22:08:49.652Z"
   },
   {
    "duration": 5,
    "start_time": "2022-10-02T22:08:49.689Z"
   },
   {
    "duration": 47,
    "start_time": "2022-10-02T22:08:49.697Z"
   },
   {
    "duration": 19,
    "start_time": "2022-10-02T22:08:49.746Z"
   },
   {
    "duration": 61,
    "start_time": "2022-10-02T22:08:49.767Z"
   },
   {
    "duration": 84,
    "start_time": "2022-10-02T22:08:49.830Z"
   },
   {
    "duration": 108,
    "start_time": "2022-10-02T22:08:49.916Z"
   },
   {
    "duration": 85,
    "start_time": "2022-10-02T22:08:50.026Z"
   },
   {
    "duration": 3,
    "start_time": "2022-10-02T22:08:50.114Z"
   },
   {
    "duration": 7,
    "start_time": "2022-10-02T22:08:50.119Z"
   },
   {
    "duration": 11,
    "start_time": "2022-10-02T22:08:50.128Z"
   },
   {
    "duration": 9,
    "start_time": "2022-10-02T22:08:50.140Z"
   },
   {
    "duration": 6,
    "start_time": "2022-10-02T22:08:50.150Z"
   },
   {
    "duration": 5,
    "start_time": "2022-10-02T22:08:50.157Z"
   },
   {
    "duration": 10,
    "start_time": "2022-10-02T22:08:50.163Z"
   },
   {
    "duration": 6,
    "start_time": "2022-10-02T22:08:50.189Z"
   },
   {
    "duration": 8,
    "start_time": "2022-10-02T22:08:50.197Z"
   },
   {
    "duration": 9,
    "start_time": "2022-10-02T22:08:50.208Z"
   },
   {
    "duration": 8,
    "start_time": "2022-10-02T22:08:50.219Z"
   },
   {
    "duration": 8,
    "start_time": "2022-10-02T22:08:50.229Z"
   },
   {
    "duration": 4,
    "start_time": "2022-10-02T22:08:50.239Z"
   },
   {
    "duration": 5,
    "start_time": "2022-10-02T22:08:50.245Z"
   },
   {
    "duration": 4,
    "start_time": "2022-10-02T22:08:50.253Z"
   },
   {
    "duration": 91,
    "start_time": "2022-10-02T22:08:50.259Z"
   },
   {
    "duration": 0,
    "start_time": "2022-10-02T22:08:50.352Z"
   },
   {
    "duration": 0,
    "start_time": "2022-10-02T22:08:50.353Z"
   },
   {
    "duration": 0,
    "start_time": "2022-10-02T22:08:50.354Z"
   },
   {
    "duration": 0,
    "start_time": "2022-10-02T22:08:50.356Z"
   },
   {
    "duration": 0,
    "start_time": "2022-10-02T22:08:50.357Z"
   },
   {
    "duration": 0,
    "start_time": "2022-10-02T22:08:50.359Z"
   },
   {
    "duration": 0,
    "start_time": "2022-10-02T22:08:50.360Z"
   },
   {
    "duration": 0,
    "start_time": "2022-10-02T22:08:50.361Z"
   },
   {
    "duration": 101,
    "start_time": "2022-10-02T22:09:43.898Z"
   },
   {
    "duration": 62,
    "start_time": "2022-10-02T22:09:47.847Z"
   },
   {
    "duration": 12,
    "start_time": "2022-10-02T22:17:00.213Z"
   },
   {
    "duration": 10,
    "start_time": "2022-10-02T22:17:08.001Z"
   },
   {
    "duration": 11,
    "start_time": "2022-10-02T22:22:20.209Z"
   },
   {
    "duration": 11,
    "start_time": "2022-10-02T22:22:37.457Z"
   },
   {
    "duration": 4,
    "start_time": "2022-10-02T22:23:39.407Z"
   },
   {
    "duration": 249,
    "start_time": "2022-10-02T22:23:39.415Z"
   },
   {
    "duration": 8,
    "start_time": "2022-10-02T22:23:39.666Z"
   },
   {
    "duration": 74,
    "start_time": "2022-10-02T22:23:39.676Z"
   },
   {
    "duration": 6,
    "start_time": "2022-10-02T22:23:39.755Z"
   },
   {
    "duration": 9,
    "start_time": "2022-10-02T22:23:39.762Z"
   },
   {
    "duration": 22,
    "start_time": "2022-10-02T22:23:39.773Z"
   },
   {
    "duration": 14,
    "start_time": "2022-10-02T22:23:39.797Z"
   },
   {
    "duration": 43,
    "start_time": "2022-10-02T22:23:39.814Z"
   },
   {
    "duration": 58,
    "start_time": "2022-10-02T22:23:39.859Z"
   },
   {
    "duration": 35,
    "start_time": "2022-10-02T22:23:39.920Z"
   },
   {
    "duration": 110,
    "start_time": "2022-10-02T22:23:39.957Z"
   },
   {
    "duration": 105,
    "start_time": "2022-10-02T22:23:40.070Z"
   },
   {
    "duration": 99,
    "start_time": "2022-10-02T22:23:40.176Z"
   },
   {
    "duration": 14,
    "start_time": "2022-10-02T22:23:40.292Z"
   },
   {
    "duration": 0,
    "start_time": "2022-10-02T22:23:40.309Z"
   },
   {
    "duration": 0,
    "start_time": "2022-10-02T22:23:40.312Z"
   },
   {
    "duration": 0,
    "start_time": "2022-10-02T22:23:40.314Z"
   },
   {
    "duration": 0,
    "start_time": "2022-10-02T22:23:40.315Z"
   },
   {
    "duration": 0,
    "start_time": "2022-10-02T22:23:40.317Z"
   },
   {
    "duration": 0,
    "start_time": "2022-10-02T22:23:40.318Z"
   },
   {
    "duration": 0,
    "start_time": "2022-10-02T22:23:40.320Z"
   },
   {
    "duration": 0,
    "start_time": "2022-10-02T22:23:40.321Z"
   },
   {
    "duration": 0,
    "start_time": "2022-10-02T22:23:40.323Z"
   },
   {
    "duration": 0,
    "start_time": "2022-10-02T22:23:40.324Z"
   },
   {
    "duration": 0,
    "start_time": "2022-10-02T22:23:40.326Z"
   },
   {
    "duration": 0,
    "start_time": "2022-10-02T22:23:40.328Z"
   },
   {
    "duration": 0,
    "start_time": "2022-10-02T22:23:40.329Z"
   },
   {
    "duration": 0,
    "start_time": "2022-10-02T22:23:40.330Z"
   },
   {
    "duration": 0,
    "start_time": "2022-10-02T22:23:40.332Z"
   },
   {
    "duration": 0,
    "start_time": "2022-10-02T22:23:40.337Z"
   },
   {
    "duration": 0,
    "start_time": "2022-10-02T22:23:40.339Z"
   },
   {
    "duration": 0,
    "start_time": "2022-10-02T22:23:40.341Z"
   },
   {
    "duration": 0,
    "start_time": "2022-10-02T22:23:40.342Z"
   },
   {
    "duration": 0,
    "start_time": "2022-10-02T22:23:40.343Z"
   },
   {
    "duration": 0,
    "start_time": "2022-10-02T22:23:40.393Z"
   },
   {
    "duration": 0,
    "start_time": "2022-10-02T22:23:40.395Z"
   },
   {
    "duration": 0,
    "start_time": "2022-10-02T22:23:40.396Z"
   },
   {
    "duration": 58,
    "start_time": "2022-10-02T22:26:20.004Z"
   },
   {
    "duration": 105,
    "start_time": "2022-10-02T22:30:12.849Z"
   },
   {
    "duration": 90,
    "start_time": "2022-10-02T22:31:05.558Z"
   },
   {
    "duration": 1371,
    "start_time": "2022-10-02T22:31:13.293Z"
   },
   {
    "duration": 1617,
    "start_time": "2022-10-02T22:31:35.150Z"
   },
   {
    "duration": 76,
    "start_time": "2022-10-02T22:31:48.226Z"
   },
   {
    "duration": 46,
    "start_time": "2022-10-03T08:25:58.232Z"
   },
   {
    "duration": 440,
    "start_time": "2022-10-03T08:26:26.167Z"
   },
   {
    "duration": 229,
    "start_time": "2022-10-03T08:26:26.608Z"
   },
   {
    "duration": 10,
    "start_time": "2022-10-03T08:26:26.838Z"
   },
   {
    "duration": 36,
    "start_time": "2022-10-03T08:26:26.851Z"
   },
   {
    "duration": 3,
    "start_time": "2022-10-03T08:26:26.889Z"
   },
   {
    "duration": 6,
    "start_time": "2022-10-03T08:26:26.894Z"
   },
   {
    "duration": 44,
    "start_time": "2022-10-03T08:26:26.903Z"
   },
   {
    "duration": 7,
    "start_time": "2022-10-03T08:26:26.948Z"
   },
   {
    "duration": 28,
    "start_time": "2022-10-03T08:26:26.956Z"
   },
   {
    "duration": 19,
    "start_time": "2022-10-03T08:26:26.987Z"
   },
   {
    "duration": 48,
    "start_time": "2022-10-03T08:26:27.008Z"
   },
   {
    "duration": 65,
    "start_time": "2022-10-03T08:26:27.057Z"
   },
   {
    "duration": 79,
    "start_time": "2022-10-03T08:26:27.139Z"
   },
   {
    "duration": 88,
    "start_time": "2022-10-03T08:26:27.220Z"
   },
   {
    "duration": 87,
    "start_time": "2022-10-03T08:26:27.310Z"
   },
   {
    "duration": 118,
    "start_time": "2022-10-03T08:26:27.399Z"
   },
   {
    "duration": 77,
    "start_time": "2022-10-03T08:26:27.522Z"
   },
   {
    "duration": 68,
    "start_time": "2022-10-03T08:26:27.602Z"
   },
   {
    "duration": 0,
    "start_time": "2022-10-03T08:26:27.673Z"
   },
   {
    "duration": 0,
    "start_time": "2022-10-03T08:26:27.675Z"
   },
   {
    "duration": 0,
    "start_time": "2022-10-03T08:26:27.677Z"
   },
   {
    "duration": 0,
    "start_time": "2022-10-03T08:26:27.678Z"
   },
   {
    "duration": 0,
    "start_time": "2022-10-03T08:26:27.680Z"
   },
   {
    "duration": 0,
    "start_time": "2022-10-03T08:26:27.681Z"
   },
   {
    "duration": 0,
    "start_time": "2022-10-03T08:26:27.683Z"
   },
   {
    "duration": 0,
    "start_time": "2022-10-03T08:26:27.685Z"
   },
   {
    "duration": 0,
    "start_time": "2022-10-03T08:26:27.686Z"
   },
   {
    "duration": 0,
    "start_time": "2022-10-03T08:26:27.688Z"
   },
   {
    "duration": 0,
    "start_time": "2022-10-03T08:26:27.689Z"
   },
   {
    "duration": 0,
    "start_time": "2022-10-03T08:26:27.690Z"
   },
   {
    "duration": 0,
    "start_time": "2022-10-03T08:26:27.692Z"
   },
   {
    "duration": 0,
    "start_time": "2022-10-03T08:26:27.693Z"
   },
   {
    "duration": 0,
    "start_time": "2022-10-03T08:26:27.695Z"
   },
   {
    "duration": 0,
    "start_time": "2022-10-03T08:26:27.696Z"
   },
   {
    "duration": 0,
    "start_time": "2022-10-03T08:26:27.698Z"
   },
   {
    "duration": 0,
    "start_time": "2022-10-03T08:26:27.739Z"
   },
   {
    "duration": 0,
    "start_time": "2022-10-03T08:26:27.741Z"
   },
   {
    "duration": 0,
    "start_time": "2022-10-03T08:26:27.742Z"
   },
   {
    "duration": 6,
    "start_time": "2022-10-03T08:26:49.279Z"
   },
   {
    "duration": 13,
    "start_time": "2022-10-03T08:27:00.758Z"
   },
   {
    "duration": 11,
    "start_time": "2022-10-03T08:27:31.866Z"
   },
   {
    "duration": 11,
    "start_time": "2022-10-03T08:41:21.170Z"
   },
   {
    "duration": 4,
    "start_time": "2022-10-03T08:47:54.159Z"
   },
   {
    "duration": 10,
    "start_time": "2022-10-03T08:50:25.552Z"
   },
   {
    "duration": 10,
    "start_time": "2022-10-03T08:54:36.147Z"
   },
   {
    "duration": 11,
    "start_time": "2022-10-03T08:54:41.248Z"
   },
   {
    "duration": 236,
    "start_time": "2022-10-03T08:55:02.232Z"
   },
   {
    "duration": 14,
    "start_time": "2022-10-03T08:55:14.305Z"
   },
   {
    "duration": 11,
    "start_time": "2022-10-03T08:55:18.986Z"
   },
   {
    "duration": 11,
    "start_time": "2022-10-03T08:55:23.141Z"
   },
   {
    "duration": 4,
    "start_time": "2022-10-03T08:55:29.413Z"
   },
   {
    "duration": 12,
    "start_time": "2022-10-03T08:55:34.718Z"
   },
   {
    "duration": 3,
    "start_time": "2022-10-03T08:56:10.302Z"
   },
   {
    "duration": 190,
    "start_time": "2022-10-03T08:56:10.307Z"
   },
   {
    "duration": 8,
    "start_time": "2022-10-03T08:56:10.498Z"
   },
   {
    "duration": 70,
    "start_time": "2022-10-03T08:56:10.509Z"
   },
   {
    "duration": 2,
    "start_time": "2022-10-03T08:56:10.582Z"
   },
   {
    "duration": 10,
    "start_time": "2022-10-03T08:56:10.586Z"
   },
   {
    "duration": 20,
    "start_time": "2022-10-03T08:56:10.597Z"
   },
   {
    "duration": 3,
    "start_time": "2022-10-03T08:56:10.619Z"
   },
   {
    "duration": 24,
    "start_time": "2022-10-03T08:56:10.639Z"
   },
   {
    "duration": 26,
    "start_time": "2022-10-03T08:56:10.665Z"
   },
   {
    "duration": 45,
    "start_time": "2022-10-03T08:56:10.693Z"
   },
   {
    "duration": 64,
    "start_time": "2022-10-03T08:56:10.740Z"
   },
   {
    "duration": 86,
    "start_time": "2022-10-03T08:56:10.806Z"
   },
   {
    "duration": 70,
    "start_time": "2022-10-03T08:56:10.894Z"
   },
   {
    "duration": 52,
    "start_time": "2022-10-03T08:56:10.965Z"
   },
   {
    "duration": 100,
    "start_time": "2022-10-03T08:56:11.019Z"
   },
   {
    "duration": 50,
    "start_time": "2022-10-03T08:56:11.121Z"
   },
   {
    "duration": 11,
    "start_time": "2022-10-03T08:56:11.173Z"
   },
   {
    "duration": 12,
    "start_time": "2022-10-03T08:56:11.186Z"
   },
   {
    "duration": 5,
    "start_time": "2022-10-03T08:56:11.199Z"
   },
   {
    "duration": 41,
    "start_time": "2022-10-03T08:56:11.205Z"
   },
   {
    "duration": 15,
    "start_time": "2022-10-03T08:56:11.248Z"
   },
   {
    "duration": 12,
    "start_time": "2022-10-03T08:56:11.265Z"
   },
   {
    "duration": 10,
    "start_time": "2022-10-03T08:56:11.280Z"
   },
   {
    "duration": 12,
    "start_time": "2022-10-03T08:56:11.292Z"
   },
   {
    "duration": 40,
    "start_time": "2022-10-03T08:56:11.306Z"
   },
   {
    "duration": 7,
    "start_time": "2022-10-03T08:56:11.348Z"
   },
   {
    "duration": 6,
    "start_time": "2022-10-03T08:56:11.356Z"
   },
   {
    "duration": 5,
    "start_time": "2022-10-03T08:56:11.363Z"
   },
   {
    "duration": 51,
    "start_time": "2022-10-03T08:56:11.370Z"
   },
   {
    "duration": 0,
    "start_time": "2022-10-03T08:56:11.423Z"
   },
   {
    "duration": 0,
    "start_time": "2022-10-03T08:56:11.424Z"
   },
   {
    "duration": 0,
    "start_time": "2022-10-03T08:56:11.425Z"
   },
   {
    "duration": 0,
    "start_time": "2022-10-03T08:56:11.426Z"
   },
   {
    "duration": 0,
    "start_time": "2022-10-03T08:56:11.427Z"
   },
   {
    "duration": 0,
    "start_time": "2022-10-03T08:56:11.428Z"
   },
   {
    "duration": 0,
    "start_time": "2022-10-03T08:56:11.429Z"
   },
   {
    "duration": 0,
    "start_time": "2022-10-03T08:56:11.430Z"
   },
   {
    "duration": 2,
    "start_time": "2022-10-03T08:57:51.900Z"
   },
   {
    "duration": 196,
    "start_time": "2022-10-03T08:57:51.904Z"
   },
   {
    "duration": 6,
    "start_time": "2022-10-03T08:57:52.102Z"
   },
   {
    "duration": 54,
    "start_time": "2022-10-03T08:57:52.110Z"
   },
   {
    "duration": 3,
    "start_time": "2022-10-03T08:57:52.166Z"
   },
   {
    "duration": 7,
    "start_time": "2022-10-03T08:57:52.171Z"
   },
   {
    "duration": 10,
    "start_time": "2022-10-03T08:57:52.180Z"
   },
   {
    "duration": 3,
    "start_time": "2022-10-03T08:57:52.192Z"
   },
   {
    "duration": 51,
    "start_time": "2022-10-03T08:57:52.197Z"
   },
   {
    "duration": 20,
    "start_time": "2022-10-03T08:57:52.250Z"
   },
   {
    "duration": 23,
    "start_time": "2022-10-03T08:57:52.272Z"
   },
   {
    "duration": 87,
    "start_time": "2022-10-03T08:57:52.297Z"
   },
   {
    "duration": 83,
    "start_time": "2022-10-03T08:57:52.386Z"
   },
   {
    "duration": 68,
    "start_time": "2022-10-03T08:57:52.472Z"
   },
   {
    "duration": 41,
    "start_time": "2022-10-03T08:57:52.542Z"
   },
   {
    "duration": 95,
    "start_time": "2022-10-03T08:57:52.585Z"
   },
   {
    "duration": 40,
    "start_time": "2022-10-03T08:57:52.682Z"
   },
   {
    "duration": 23,
    "start_time": "2022-10-03T08:57:52.723Z"
   },
   {
    "duration": 11,
    "start_time": "2022-10-03T08:57:52.748Z"
   },
   {
    "duration": 7,
    "start_time": "2022-10-03T08:57:52.761Z"
   },
   {
    "duration": 15,
    "start_time": "2022-10-03T08:57:52.770Z"
   },
   {
    "duration": 15,
    "start_time": "2022-10-03T08:57:52.787Z"
   },
   {
    "duration": 36,
    "start_time": "2022-10-03T08:57:52.804Z"
   },
   {
    "duration": 12,
    "start_time": "2022-10-03T08:57:52.843Z"
   },
   {
    "duration": 12,
    "start_time": "2022-10-03T08:57:52.857Z"
   },
   {
    "duration": 14,
    "start_time": "2022-10-03T08:57:52.871Z"
   },
   {
    "duration": 5,
    "start_time": "2022-10-03T08:57:52.886Z"
   },
   {
    "duration": 5,
    "start_time": "2022-10-03T08:57:52.893Z"
   },
   {
    "duration": 2,
    "start_time": "2022-10-03T08:57:52.901Z"
   },
   {
    "duration": 59,
    "start_time": "2022-10-03T08:57:52.905Z"
   },
   {
    "duration": 0,
    "start_time": "2022-10-03T08:57:52.966Z"
   },
   {
    "duration": 0,
    "start_time": "2022-10-03T08:57:52.967Z"
   },
   {
    "duration": 0,
    "start_time": "2022-10-03T08:57:52.968Z"
   },
   {
    "duration": 0,
    "start_time": "2022-10-03T08:57:52.970Z"
   },
   {
    "duration": 0,
    "start_time": "2022-10-03T08:57:52.971Z"
   },
   {
    "duration": 0,
    "start_time": "2022-10-03T08:57:52.972Z"
   },
   {
    "duration": 0,
    "start_time": "2022-10-03T08:57:52.973Z"
   },
   {
    "duration": 0,
    "start_time": "2022-10-03T08:57:52.974Z"
   },
   {
    "duration": 12,
    "start_time": "2022-10-03T08:59:54.749Z"
   },
   {
    "duration": 12,
    "start_time": "2022-10-03T09:00:00.668Z"
   },
   {
    "duration": 29,
    "start_time": "2022-10-03T09:01:54.885Z"
   },
   {
    "duration": 3,
    "start_time": "2022-10-03T09:02:51.522Z"
   },
   {
    "duration": 16,
    "start_time": "2022-10-03T09:02:55.414Z"
   },
   {
    "duration": 2,
    "start_time": "2022-10-03T09:02:59.609Z"
   },
   {
    "duration": 168,
    "start_time": "2022-10-03T09:02:59.629Z"
   },
   {
    "duration": 7,
    "start_time": "2022-10-03T09:02:59.799Z"
   },
   {
    "duration": 45,
    "start_time": "2022-10-03T09:02:59.808Z"
   },
   {
    "duration": 2,
    "start_time": "2022-10-03T09:02:59.855Z"
   },
   {
    "duration": 9,
    "start_time": "2022-10-03T09:02:59.859Z"
   },
   {
    "duration": 13,
    "start_time": "2022-10-03T09:02:59.870Z"
   },
   {
    "duration": 3,
    "start_time": "2022-10-03T09:02:59.885Z"
   },
   {
    "duration": 29,
    "start_time": "2022-10-03T09:02:59.890Z"
   },
   {
    "duration": 20,
    "start_time": "2022-10-03T09:02:59.939Z"
   },
   {
    "duration": 27,
    "start_time": "2022-10-03T09:02:59.960Z"
   },
   {
    "duration": 86,
    "start_time": "2022-10-03T09:02:59.989Z"
   },
   {
    "duration": 79,
    "start_time": "2022-10-03T09:03:00.077Z"
   },
   {
    "duration": 56,
    "start_time": "2022-10-03T09:03:00.158Z"
   },
   {
    "duration": 52,
    "start_time": "2022-10-03T09:03:00.217Z"
   },
   {
    "duration": 93,
    "start_time": "2022-10-03T09:03:00.271Z"
   },
   {
    "duration": 38,
    "start_time": "2022-10-03T09:03:00.366Z"
   },
   {
    "duration": 12,
    "start_time": "2022-10-03T09:03:00.406Z"
   },
   {
    "duration": 37,
    "start_time": "2022-10-03T09:03:00.420Z"
   },
   {
    "duration": 12,
    "start_time": "2022-10-03T09:03:00.460Z"
   },
   {
    "duration": 33,
    "start_time": "2022-10-03T09:03:00.474Z"
   },
   {
    "duration": 31,
    "start_time": "2022-10-03T09:03:00.509Z"
   },
   {
    "duration": 22,
    "start_time": "2022-10-03T09:03:00.542Z"
   },
   {
    "duration": 13,
    "start_time": "2022-10-03T09:03:00.566Z"
   },
   {
    "duration": 17,
    "start_time": "2022-10-03T09:03:00.580Z"
   },
   {
    "duration": 23,
    "start_time": "2022-10-03T09:03:00.599Z"
   },
   {
    "duration": 15,
    "start_time": "2022-10-03T09:03:00.624Z"
   },
   {
    "duration": 9,
    "start_time": "2022-10-03T09:03:00.641Z"
   },
   {
    "duration": 7,
    "start_time": "2022-10-03T09:03:00.652Z"
   },
   {
    "duration": 128,
    "start_time": "2022-10-03T09:03:00.660Z"
   },
   {
    "duration": 0,
    "start_time": "2022-10-03T09:03:00.789Z"
   },
   {
    "duration": 0,
    "start_time": "2022-10-03T09:03:00.790Z"
   },
   {
    "duration": 0,
    "start_time": "2022-10-03T09:03:00.791Z"
   },
   {
    "duration": 0,
    "start_time": "2022-10-03T09:03:00.792Z"
   },
   {
    "duration": 0,
    "start_time": "2022-10-03T09:03:00.793Z"
   },
   {
    "duration": 0,
    "start_time": "2022-10-03T09:03:00.794Z"
   },
   {
    "duration": 0,
    "start_time": "2022-10-03T09:03:00.795Z"
   },
   {
    "duration": 0,
    "start_time": "2022-10-03T09:03:00.796Z"
   },
   {
    "duration": 14,
    "start_time": "2022-10-03T09:09:51.978Z"
   },
   {
    "duration": 5,
    "start_time": "2022-10-03T09:38:53.681Z"
   },
   {
    "duration": 10,
    "start_time": "2022-10-03T11:19:58.505Z"
   },
   {
    "duration": 3,
    "start_time": "2022-10-03T11:20:06.497Z"
   },
   {
    "duration": 204,
    "start_time": "2022-10-03T11:20:06.502Z"
   },
   {
    "duration": 7,
    "start_time": "2022-10-03T11:20:06.708Z"
   },
   {
    "duration": 44,
    "start_time": "2022-10-03T11:20:06.717Z"
   },
   {
    "duration": 8,
    "start_time": "2022-10-03T11:20:06.764Z"
   },
   {
    "duration": 6,
    "start_time": "2022-10-03T11:20:06.774Z"
   },
   {
    "duration": 10,
    "start_time": "2022-10-03T11:20:06.782Z"
   },
   {
    "duration": 3,
    "start_time": "2022-10-03T11:20:06.794Z"
   },
   {
    "duration": 59,
    "start_time": "2022-10-03T11:20:06.799Z"
   },
   {
    "duration": 26,
    "start_time": "2022-10-03T11:20:06.860Z"
   },
   {
    "duration": 28,
    "start_time": "2022-10-03T11:20:06.888Z"
   },
   {
    "duration": 77,
    "start_time": "2022-10-03T11:20:06.917Z"
   },
   {
    "duration": 87,
    "start_time": "2022-10-03T11:20:06.996Z"
   },
   {
    "duration": 79,
    "start_time": "2022-10-03T11:20:07.084Z"
   },
   {
    "duration": 49,
    "start_time": "2022-10-03T11:20:07.167Z"
   },
   {
    "duration": 129,
    "start_time": "2022-10-03T11:20:07.218Z"
   },
   {
    "duration": 62,
    "start_time": "2022-10-03T11:20:07.351Z"
   },
   {
    "duration": 37,
    "start_time": "2022-10-03T11:20:07.415Z"
   },
   {
    "duration": 27,
    "start_time": "2022-10-03T11:20:07.456Z"
   },
   {
    "duration": 4,
    "start_time": "2022-10-03T11:20:07.485Z"
   },
   {
    "duration": 33,
    "start_time": "2022-10-03T11:20:07.491Z"
   },
   {
    "duration": 22,
    "start_time": "2022-10-03T11:20:07.526Z"
   },
   {
    "duration": 30,
    "start_time": "2022-10-03T11:20:07.552Z"
   },
   {
    "duration": 33,
    "start_time": "2022-10-03T11:20:07.584Z"
   },
   {
    "duration": 29,
    "start_time": "2022-10-03T11:20:07.620Z"
   },
   {
    "duration": 26,
    "start_time": "2022-10-03T11:20:07.655Z"
   },
   {
    "duration": 7,
    "start_time": "2022-10-03T11:20:07.683Z"
   },
   {
    "duration": 19,
    "start_time": "2022-10-03T11:20:07.691Z"
   },
   {
    "duration": 13,
    "start_time": "2022-10-03T11:20:07.713Z"
   },
   {
    "duration": 12,
    "start_time": "2022-10-03T11:20:07.727Z"
   },
   {
    "duration": 25,
    "start_time": "2022-10-03T11:20:07.756Z"
   },
   {
    "duration": 11,
    "start_time": "2022-10-03T11:20:07.783Z"
   },
   {
    "duration": 21,
    "start_time": "2022-10-03T11:20:07.796Z"
   },
   {
    "duration": 34,
    "start_time": "2022-10-03T11:20:07.819Z"
   },
   {
    "duration": 3,
    "start_time": "2022-10-03T11:20:07.857Z"
   },
   {
    "duration": 7,
    "start_time": "2022-10-03T11:20:07.862Z"
   },
   {
    "duration": 9,
    "start_time": "2022-10-03T11:20:07.871Z"
   },
   {
    "duration": 12,
    "start_time": "2022-10-03T11:20:07.882Z"
   },
   {
    "duration": 6,
    "start_time": "2022-10-03T11:20:48.055Z"
   },
   {
    "duration": 6,
    "start_time": "2022-10-03T11:28:29.949Z"
   },
   {
    "duration": 3,
    "start_time": "2022-10-03T11:28:42.179Z"
   },
   {
    "duration": 178,
    "start_time": "2022-10-03T11:28:42.205Z"
   },
   {
    "duration": 7,
    "start_time": "2022-10-03T11:28:42.385Z"
   },
   {
    "duration": 57,
    "start_time": "2022-10-03T11:28:42.394Z"
   },
   {
    "duration": 11,
    "start_time": "2022-10-03T11:28:42.453Z"
   },
   {
    "duration": 22,
    "start_time": "2022-10-03T11:28:42.466Z"
   },
   {
    "duration": 32,
    "start_time": "2022-10-03T11:28:42.490Z"
   },
   {
    "duration": 47,
    "start_time": "2022-10-03T11:28:42.523Z"
   },
   {
    "duration": 49,
    "start_time": "2022-10-03T11:28:42.572Z"
   },
   {
    "duration": 48,
    "start_time": "2022-10-03T11:28:42.623Z"
   },
   {
    "duration": 49,
    "start_time": "2022-10-03T11:28:42.673Z"
   },
   {
    "duration": 100,
    "start_time": "2022-10-03T11:28:42.723Z"
   },
   {
    "duration": 83,
    "start_time": "2022-10-03T11:28:42.825Z"
   },
   {
    "duration": 74,
    "start_time": "2022-10-03T11:28:42.910Z"
   },
   {
    "duration": 57,
    "start_time": "2022-10-03T11:28:42.988Z"
   },
   {
    "duration": 106,
    "start_time": "2022-10-03T11:28:43.048Z"
   },
   {
    "duration": 37,
    "start_time": "2022-10-03T11:28:43.156Z"
   },
   {
    "duration": 12,
    "start_time": "2022-10-03T11:28:43.195Z"
   },
   {
    "duration": 32,
    "start_time": "2022-10-03T11:28:43.209Z"
   },
   {
    "duration": 9,
    "start_time": "2022-10-03T11:28:43.242Z"
   },
   {
    "duration": 55,
    "start_time": "2022-10-03T11:28:43.254Z"
   },
   {
    "duration": 43,
    "start_time": "2022-10-03T11:28:43.311Z"
   },
   {
    "duration": 31,
    "start_time": "2022-10-03T11:28:43.356Z"
   },
   {
    "duration": 32,
    "start_time": "2022-10-03T11:28:43.388Z"
   },
   {
    "duration": 31,
    "start_time": "2022-10-03T11:28:43.423Z"
   },
   {
    "duration": 27,
    "start_time": "2022-10-03T11:28:43.457Z"
   },
   {
    "duration": 23,
    "start_time": "2022-10-03T11:28:43.487Z"
   },
   {
    "duration": 41,
    "start_time": "2022-10-03T11:28:43.512Z"
   },
   {
    "duration": 16,
    "start_time": "2022-10-03T11:28:43.559Z"
   },
   {
    "duration": 23,
    "start_time": "2022-10-03T11:28:43.576Z"
   },
   {
    "duration": 36,
    "start_time": "2022-10-03T11:28:43.601Z"
   },
   {
    "duration": 30,
    "start_time": "2022-10-03T11:28:43.646Z"
   },
   {
    "duration": 34,
    "start_time": "2022-10-03T11:28:43.678Z"
   },
   {
    "duration": 57,
    "start_time": "2022-10-03T11:28:43.713Z"
   },
   {
    "duration": 16,
    "start_time": "2022-10-03T11:28:43.771Z"
   },
   {
    "duration": 16,
    "start_time": "2022-10-03T11:28:43.789Z"
   },
   {
    "duration": 24,
    "start_time": "2022-10-03T11:28:43.807Z"
   },
   {
    "duration": 34,
    "start_time": "2022-10-03T11:28:43.832Z"
   },
   {
    "duration": 5,
    "start_time": "2022-10-03T11:30:13.679Z"
   },
   {
    "duration": 3,
    "start_time": "2022-10-03T11:39:15.594Z"
   },
   {
    "duration": 175,
    "start_time": "2022-10-03T11:39:15.599Z"
   },
   {
    "duration": 7,
    "start_time": "2022-10-03T11:39:15.776Z"
   },
   {
    "duration": 35,
    "start_time": "2022-10-03T11:39:15.784Z"
   },
   {
    "duration": 18,
    "start_time": "2022-10-03T11:39:15.821Z"
   },
   {
    "duration": 12,
    "start_time": "2022-10-03T11:39:15.841Z"
   },
   {
    "duration": 14,
    "start_time": "2022-10-03T11:39:15.855Z"
   },
   {
    "duration": 3,
    "start_time": "2022-10-03T11:39:15.871Z"
   },
   {
    "duration": 39,
    "start_time": "2022-10-03T11:39:15.875Z"
   },
   {
    "duration": 44,
    "start_time": "2022-10-03T11:39:15.916Z"
   },
   {
    "duration": 28,
    "start_time": "2022-10-03T11:39:15.961Z"
   },
   {
    "duration": 78,
    "start_time": "2022-10-03T11:39:15.990Z"
   },
   {
    "duration": 83,
    "start_time": "2022-10-03T11:39:16.070Z"
   },
   {
    "duration": 63,
    "start_time": "2022-10-03T11:39:16.156Z"
   },
   {
    "duration": 51,
    "start_time": "2022-10-03T11:39:16.221Z"
   },
   {
    "duration": 165,
    "start_time": "2022-10-03T11:39:16.273Z"
   },
   {
    "duration": 39,
    "start_time": "2022-10-03T11:39:16.440Z"
   },
   {
    "duration": 12,
    "start_time": "2022-10-03T11:39:16.481Z"
   },
   {
    "duration": 40,
    "start_time": "2022-10-03T11:39:16.495Z"
   },
   {
    "duration": 23,
    "start_time": "2022-10-03T11:39:16.536Z"
   },
   {
    "duration": 60,
    "start_time": "2022-10-03T11:39:16.561Z"
   },
   {
    "duration": 24,
    "start_time": "2022-10-03T11:39:16.623Z"
   },
   {
    "duration": 28,
    "start_time": "2022-10-03T11:39:16.649Z"
   },
   {
    "duration": 34,
    "start_time": "2022-10-03T11:39:16.679Z"
   },
   {
    "duration": 30,
    "start_time": "2022-10-03T11:39:16.714Z"
   },
   {
    "duration": 15,
    "start_time": "2022-10-03T11:39:16.746Z"
   },
   {
    "duration": 16,
    "start_time": "2022-10-03T11:39:16.763Z"
   },
   {
    "duration": 24,
    "start_time": "2022-10-03T11:39:16.781Z"
   },
   {
    "duration": 14,
    "start_time": "2022-10-03T11:39:16.807Z"
   },
   {
    "duration": 19,
    "start_time": "2022-10-03T11:39:16.823Z"
   },
   {
    "duration": 5,
    "start_time": "2022-10-03T11:41:14.452Z"
   },
   {
    "duration": 28,
    "start_time": "2022-10-03T11:41:14.459Z"
   },
   {
    "duration": 12,
    "start_time": "2022-10-03T11:41:14.489Z"
   },
   {
    "duration": 20,
    "start_time": "2022-10-03T11:41:14.503Z"
   },
   {
    "duration": 14,
    "start_time": "2022-10-03T11:41:14.538Z"
   },
   {
    "duration": 3,
    "start_time": "2022-10-03T11:41:14.554Z"
   },
   {
    "duration": 4,
    "start_time": "2022-10-03T11:41:14.559Z"
   },
   {
    "duration": 6,
    "start_time": "2022-10-03T11:41:14.565Z"
   },
   {
    "duration": 6,
    "start_time": "2022-10-03T11:41:14.573Z"
   },
   {
    "duration": 3,
    "start_time": "2022-10-03T11:41:40.417Z"
   },
   {
    "duration": 211,
    "start_time": "2022-10-03T11:41:40.422Z"
   },
   {
    "duration": 6,
    "start_time": "2022-10-03T11:41:40.635Z"
   },
   {
    "duration": 37,
    "start_time": "2022-10-03T11:41:40.643Z"
   },
   {
    "duration": 4,
    "start_time": "2022-10-03T11:41:40.683Z"
   },
   {
    "duration": 7,
    "start_time": "2022-10-03T11:41:40.688Z"
   },
   {
    "duration": 15,
    "start_time": "2022-10-03T11:41:40.697Z"
   },
   {
    "duration": 4,
    "start_time": "2022-10-03T11:41:40.739Z"
   },
   {
    "duration": 30,
    "start_time": "2022-10-03T11:41:40.744Z"
   },
   {
    "duration": 26,
    "start_time": "2022-10-03T11:41:40.775Z"
   },
   {
    "duration": 61,
    "start_time": "2022-10-03T11:41:40.803Z"
   },
   {
    "duration": 86,
    "start_time": "2022-10-03T11:41:40.865Z"
   },
   {
    "duration": 88,
    "start_time": "2022-10-03T11:41:40.953Z"
   },
   {
    "duration": 103,
    "start_time": "2022-10-03T11:41:41.043Z"
   },
   {
    "duration": 57,
    "start_time": "2022-10-03T11:41:41.149Z"
   },
   {
    "duration": 115,
    "start_time": "2022-10-03T11:41:41.208Z"
   },
   {
    "duration": 54,
    "start_time": "2022-10-03T11:41:41.325Z"
   },
   {
    "duration": 13,
    "start_time": "2022-10-03T11:41:41.382Z"
   },
   {
    "duration": 14,
    "start_time": "2022-10-03T11:41:41.397Z"
   },
   {
    "duration": 4,
    "start_time": "2022-10-03T11:41:41.439Z"
   },
   {
    "duration": 29,
    "start_time": "2022-10-03T11:41:41.445Z"
   },
   {
    "duration": 25,
    "start_time": "2022-10-03T11:41:41.476Z"
   },
   {
    "duration": 36,
    "start_time": "2022-10-03T11:41:41.504Z"
   },
   {
    "duration": 21,
    "start_time": "2022-10-03T11:41:41.542Z"
   },
   {
    "duration": 21,
    "start_time": "2022-10-03T11:41:41.565Z"
   },
   {
    "duration": 16,
    "start_time": "2022-10-03T11:41:41.588Z"
   },
   {
    "duration": 36,
    "start_time": "2022-10-03T11:41:41.608Z"
   },
   {
    "duration": 22,
    "start_time": "2022-10-03T11:41:41.646Z"
   },
   {
    "duration": 14,
    "start_time": "2022-10-03T11:41:41.670Z"
   },
   {
    "duration": 10,
    "start_time": "2022-10-03T11:41:41.687Z"
   },
   {
    "duration": 51,
    "start_time": "2022-10-03T11:41:41.698Z"
   },
   {
    "duration": 18,
    "start_time": "2022-10-03T11:41:41.751Z"
   },
   {
    "duration": 28,
    "start_time": "2022-10-03T11:41:41.771Z"
   },
   {
    "duration": 39,
    "start_time": "2022-10-03T11:41:41.801Z"
   },
   {
    "duration": 6,
    "start_time": "2022-10-03T11:41:41.842Z"
   },
   {
    "duration": 7,
    "start_time": "2022-10-03T11:41:41.849Z"
   },
   {
    "duration": 12,
    "start_time": "2022-10-03T11:41:41.859Z"
   },
   {
    "duration": 8,
    "start_time": "2022-10-03T11:41:41.873Z"
   },
   {
    "duration": 4,
    "start_time": "2022-10-03T11:53:32.883Z"
   },
   {
    "duration": 170,
    "start_time": "2022-10-03T11:53:32.888Z"
   },
   {
    "duration": 7,
    "start_time": "2022-10-03T11:53:33.060Z"
   },
   {
    "duration": 32,
    "start_time": "2022-10-03T11:53:33.069Z"
   },
   {
    "duration": 3,
    "start_time": "2022-10-03T11:53:33.103Z"
   },
   {
    "duration": 13,
    "start_time": "2022-10-03T11:53:33.107Z"
   },
   {
    "duration": 24,
    "start_time": "2022-10-03T11:53:33.122Z"
   },
   {
    "duration": 5,
    "start_time": "2022-10-03T11:53:33.147Z"
   },
   {
    "duration": 30,
    "start_time": "2022-10-03T11:53:33.155Z"
   },
   {
    "duration": 25,
    "start_time": "2022-10-03T11:53:33.187Z"
   },
   {
    "duration": 39,
    "start_time": "2022-10-03T11:53:33.214Z"
   },
   {
    "duration": 71,
    "start_time": "2022-10-03T11:53:33.255Z"
   },
   {
    "duration": 84,
    "start_time": "2022-10-03T11:53:33.328Z"
   },
   {
    "duration": 74,
    "start_time": "2022-10-03T11:53:33.413Z"
   },
   {
    "duration": 50,
    "start_time": "2022-10-03T11:53:33.489Z"
   },
   {
    "duration": 85,
    "start_time": "2022-10-03T11:53:33.541Z"
   },
   {
    "duration": 44,
    "start_time": "2022-10-03T11:53:33.628Z"
   },
   {
    "duration": 11,
    "start_time": "2022-10-03T11:53:33.674Z"
   },
   {
    "duration": 11,
    "start_time": "2022-10-03T11:53:33.687Z"
   },
   {
    "duration": 4,
    "start_time": "2022-10-03T11:53:33.699Z"
   },
   {
    "duration": 43,
    "start_time": "2022-10-03T11:53:33.705Z"
   },
   {
    "duration": 19,
    "start_time": "2022-10-03T11:53:33.750Z"
   },
   {
    "duration": 15,
    "start_time": "2022-10-03T11:53:33.771Z"
   },
   {
    "duration": 12,
    "start_time": "2022-10-03T11:53:33.789Z"
   },
   {
    "duration": 38,
    "start_time": "2022-10-03T11:53:33.803Z"
   },
   {
    "duration": 14,
    "start_time": "2022-10-03T11:53:33.843Z"
   },
   {
    "duration": 7,
    "start_time": "2022-10-03T11:53:33.858Z"
   },
   {
    "duration": 18,
    "start_time": "2022-10-03T11:53:33.867Z"
   },
   {
    "duration": 12,
    "start_time": "2022-10-03T11:53:33.886Z"
   },
   {
    "duration": 4,
    "start_time": "2022-10-03T11:53:33.900Z"
   },
   {
    "duration": 45,
    "start_time": "2022-10-03T11:53:33.905Z"
   },
   {
    "duration": 11,
    "start_time": "2022-10-03T11:53:33.952Z"
   },
   {
    "duration": 18,
    "start_time": "2022-10-03T11:53:33.964Z"
   },
   {
    "duration": 11,
    "start_time": "2022-10-03T11:53:33.984Z"
   },
   {
    "duration": 3,
    "start_time": "2022-10-03T11:53:33.997Z"
   },
   {
    "duration": 38,
    "start_time": "2022-10-03T11:53:34.001Z"
   },
   {
    "duration": 5,
    "start_time": "2022-10-03T11:53:34.041Z"
   },
   {
    "duration": 5,
    "start_time": "2022-10-03T11:53:34.048Z"
   },
   {
    "duration": 7,
    "start_time": "2022-10-03T13:37:38.833Z"
   },
   {
    "duration": 8,
    "start_time": "2022-10-03T13:51:17.957Z"
   },
   {
    "duration": 8,
    "start_time": "2022-10-03T13:51:25.491Z"
   },
   {
    "duration": 4,
    "start_time": "2022-10-03T13:51:29.555Z"
   },
   {
    "duration": 7,
    "start_time": "2022-10-03T14:53:20.016Z"
   },
   {
    "duration": 7,
    "start_time": "2022-10-03T14:53:25.177Z"
   },
   {
    "duration": 5,
    "start_time": "2022-10-03T14:53:28.177Z"
   }
  ],
  "colab": {
   "collapsed_sections": [
    "E0vqbgi9ay0H",
    "VUC88oWjTJw2"
   ],
   "name": "automatization_template_upd4.ipynb",
   "provenance": []
  },
  "kernelspec": {
   "display_name": "Python 3 (ipykernel)",
   "language": "python",
   "name": "python3"
  },
  "language_info": {
   "codemirror_mode": {
    "name": "ipython",
    "version": 3
   },
   "file_extension": ".py",
   "mimetype": "text/x-python",
   "name": "python",
   "nbconvert_exporter": "python",
   "pygments_lexer": "ipython3",
   "version": "3.9.5"
  },
  "toc": {
   "base_numbering": 1,
   "nav_menu": {
    "height": "215px",
    "width": "403px"
   },
   "number_sections": true,
   "sideBar": true,
   "skip_h1_title": true,
   "title_cell": "Table of Contents",
   "title_sidebar": "Contents",
   "toc_cell": false,
   "toc_position": {
    "height": "calc(100% - 180px)",
    "left": "10px",
    "top": "150px",
    "width": "285.825px"
   },
   "toc_section_display": true,
   "toc_window_display": false
  }
 },
 "nbformat": 4,
 "nbformat_minor": 1
}
